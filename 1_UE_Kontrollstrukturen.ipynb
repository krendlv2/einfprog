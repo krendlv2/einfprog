{
 "cells": [
  {
   "cell_type": "markdown",
   "id": "7743db2a",
   "metadata": {},
   "source": [
    "### 1. random integer"
   ]
  },
  {
   "cell_type": "markdown",
   "id": "59988f7b",
   "metadata": {},
   "source": [
    "Sie bekommen diese Informationen, um ein Programm schreiben zu können. Wie würden\n",
    "Sie es implementieren?"
   ]
  },
  {
   "cell_type": "code",
   "execution_count": 1,
   "id": "4e418159",
   "metadata": {},
   "outputs": [],
   "source": [
    "from random import randint\n",
    "# get a random integer between 0 and 100 (inclusive) with function radint()\n",
    "# print if variable is less than 50\n",
    "# print if the variable is not less than 50"
   ]
  },
  {
   "cell_type": "code",
   "execution_count": 24,
   "id": "3f60b02e",
   "metadata": {},
   "outputs": [
    {
     "name": "stdout",
     "output_type": "stream",
     "text": [
      "26\n"
     ]
    }
   ],
   "source": [
    "x = randint(0,100)\n",
    "if x < 50:\n",
    "    print(x)\n",
    "else:\n",
    "    print(x)"
   ]
  },
  {
   "cell_type": "markdown",
   "id": "3343996c",
   "metadata": {},
   "source": [
    "### 2. while Schleife"
   ]
  },
  {
   "cell_type": "markdown",
   "id": "5818b3cb",
   "metadata": {},
   "source": [
    "Schreiben Sie eine while-Schleife, die von 1 bis 100 Zahlen am Bildschirm ausgibt. Ändern\n",
    "Sie die Schleife, sodass ein Countdown von 100 bis 0 in 5er Schritten ausgegeben wird. "
   ]
  },
  {
   "cell_type": "code",
   "execution_count": 22,
   "id": "b7b86e54",
   "metadata": {},
   "outputs": [
    {
     "name": "stdout",
     "output_type": "stream",
     "text": [
      "1\n",
      "2\n",
      "3\n",
      "4\n",
      "5\n",
      "6\n",
      "7\n",
      "8\n",
      "9\n",
      "10\n",
      "11\n",
      "12\n",
      "13\n",
      "14\n",
      "15\n",
      "16\n",
      "17\n",
      "18\n",
      "19\n",
      "20\n",
      "21\n",
      "22\n",
      "23\n",
      "24\n",
      "25\n",
      "26\n",
      "27\n",
      "28\n",
      "29\n",
      "30\n",
      "31\n",
      "32\n",
      "33\n",
      "34\n",
      "35\n",
      "36\n",
      "37\n",
      "38\n",
      "39\n",
      "40\n",
      "41\n",
      "42\n",
      "43\n",
      "44\n",
      "45\n",
      "46\n",
      "47\n",
      "48\n",
      "49\n",
      "50\n",
      "51\n",
      "52\n",
      "53\n",
      "54\n",
      "55\n",
      "56\n",
      "57\n",
      "58\n",
      "59\n",
      "60\n",
      "61\n",
      "62\n",
      "63\n",
      "64\n",
      "65\n",
      "66\n",
      "67\n",
      "68\n",
      "69\n",
      "70\n",
      "71\n",
      "72\n",
      "73\n",
      "74\n",
      "75\n",
      "76\n",
      "77\n",
      "78\n",
      "79\n",
      "80\n",
      "81\n",
      "82\n",
      "83\n",
      "84\n",
      "85\n",
      "86\n",
      "87\n",
      "88\n",
      "89\n",
      "90\n",
      "91\n",
      "92\n",
      "93\n",
      "94\n",
      "95\n",
      "96\n",
      "97\n",
      "98\n",
      "99\n",
      "100\n",
      "95\n",
      "90\n",
      "85\n",
      "80\n",
      "75\n",
      "70\n",
      "65\n",
      "60\n",
      "55\n",
      "50\n",
      "45\n",
      "40\n",
      "35\n",
      "30\n",
      "25\n",
      "20\n",
      "15\n",
      "10\n",
      "5\n",
      "0\n"
     ]
    }
   ],
   "source": [
    "a = 0\n",
    "while a < 100:\n",
    "    a = a+1\n",
    "    print(a)\n",
    "    if a == 100:\n",
    "        b = a\n",
    "\n",
    "while b <= 100:\n",
    "    b = b - 5\n",
    "    print(b)\n",
    "    if b == 0:\n",
    "        break"
   ]
  },
  {
   "cell_type": "markdown",
   "id": "12cf7b19",
   "metadata": {},
   "source": [
    "### 3. Pythagoras, ob rechtwinkelig"
   ]
  },
  {
   "cell_type": "markdown",
   "id": "833524be",
   "metadata": {},
   "source": [
    "Schreiben Sie ein Programm, das überprüft, ob ein Dreieck mit den Seiten a, b und c\n",
    "rechtwinklig ist. \n",
    "<p>Zur Überprüfung wird der Satz des Pythagoras herangezogen: c^2 = a^2 + b^2</p>\n"
   ]
  },
  {
   "cell_type": "code",
   "execution_count": 31,
   "id": "60e0bcc7",
   "metadata": {},
   "outputs": [
    {
     "name": "stdout",
     "output_type": "stream",
     "text": [
      "Geben Sie die Maße Ihres Dreiecks an:\n",
      "Seitenlänge a: 3\n",
      "Seitenlänge b: 4\n",
      "Seitenlänge c: 5\n",
      "Ihr Dreieck hat einen rechten Winkel\n"
     ]
    }
   ],
   "source": [
    "print(\"Geben Sie die Maße Ihres Dreiecks an:\")\n",
    "a = input(\"Seitenlänge a: \")\n",
    "a = int(a)\n",
    "b = input(\"Seitenlänge b: \")\n",
    "b = int(b)\n",
    "c = input(\"Seitenlänge c: \")\n",
    "c = int(c)\n",
    "if c**2 == a**2 + b**2 or a**2 == b**2 + c**2 or b**2 == a**2 + c**2:\n",
    "    print(\"Ihr Dreieck hat einen rechten Winkel\")\n",
    "else:\n",
    "    print(\"Ihr Dreieck ist nicht rechtwinkelig\")"
   ]
  },
  {
   "cell_type": "markdown",
   "id": "e1377985",
   "metadata": {},
   "source": [
    "### 4. Quadrant"
   ]
  },
  {
   "cell_type": "markdown",
   "id": "afe7314b",
   "metadata": {},
   "source": [
    "In einem Programm sollen die x- und die y-Koordinate eines Punkts eingegeben werden.\n",
    "Anschließend soll das Programm entscheiden, in welchem Quadranten der Punkt liegt.\n",
    "Quadranten werden im Gegenuhrzeigersinn nummeriert. Wir verwenden im Programm\n",
    "eine Variable namens quadrant, welche die Werte 1, 2, 3 und 4 annehmen kann. Mittels\n",
    "geschachtelter if-Anweisungen wird anhand des Vorzeichens der Punktkoordinaten X und\n",
    "Y ermittelt, wo der Punkt liegt. Die x- und y-Achse sollen dabei zu den positiven\n",
    "Koordinatenwerten zählen."
   ]
  },
  {
   "cell_type": "code",
   "execution_count": 33,
   "id": "78fd8bea",
   "metadata": {},
   "outputs": [
    {
     "name": "stdout",
     "output_type": "stream",
     "text": [
      "mit diesem Programm können Sie den Quadrant Ihres Punkts bestimmen\n",
      "geben Sie x an: -4\n",
      "geben Sie y an: 22\n",
      "Der Punkt liegt in Quadrant 2\n"
     ]
    }
   ],
   "source": [
    "print(\"mit diesem Programm können Sie den Quadrant Ihres Punkts bestimmen\")\n",
    "X = input(\"geben Sie x an: \")\n",
    "X = int(X)\n",
    "Y = input(\"geben Sie y an: \")\n",
    "Y = int(Y)\n",
    "if X > 0 and Y > 0:\n",
    "    print(\"Der Punkt liegt in Quadrant 1\")\n",
    "if X < 0 and Y < 0:\n",
    "    print(\"Der Punkt liegt in Quadrant 3\")\n",
    "if X < 0 and Y > 0:\n",
    "    print(\"Der Punkt liegt in Quadrant 2\")\n",
    "if X > 0 and Y < 0:\n",
    "    print(\"Der Punkt liegt in Quadrant 4\")\n",
    "if X == 0 and Y > 0:\n",
    "    print(\"Der Punkt liegt zwischen Quadrant 1 & 2\")\n",
    "if X == 0 and Y < 0:\n",
    "    print(\"Der Punkt liegt zwischen Quadrant 3 & 4\")\n",
    "if X > 0 and Y == 0:\n",
    "    print(\"Der Punkt liegt zwischen Quadrant 1 & 4\")\n",
    "if X == 0 and Y > 0:\n",
    "    print(\"Der Punkt liegt zwischen Quadrant 2 & 3\")\n",
    "if X == 0 and Y == 0:\n",
    "    print(\"Der Punkt liegt zwischen den 4 Quadranten.\")"
   ]
  },
  {
   "cell_type": "code",
   "execution_count": 34,
   "id": "a8c29a6c",
   "metadata": {},
   "outputs": [],
   "source": [
    "# ist zwar nicht ganz das was gefragt wurde aber würde imho den Zweck erfüllen..."
   ]
  },
  {
   "cell_type": "markdown",
   "id": "07bafa29",
   "metadata": {},
   "source": [
    "### 5. Fakultät"
   ]
  },
  {
   "cell_type": "markdown",
   "id": "23d70c94",
   "metadata": {},
   "source": [
    "Schreiben Sie ein Programm, das die Fakultät berechnet, in dem der Benutzer den Wert n\n",
    "dafür eingeben kann. Die Ausgabe soll ein gut lesebarer formatierter String sein."
   ]
  },
  {
   "cell_type": "code",
   "execution_count": 48,
   "id": "ab326ae3",
   "metadata": {},
   "outputs": [
    {
     "name": "stdout",
     "output_type": "stream",
     "text": [
      "Programm zur Berechnung der fakultät einer Zahl\n",
      "Geben Sie eine Zahl an: 5\n"
     ]
    },
    {
     "data": {
      "text/plain": [
       "'Die Fakultät von 5 ist 120'"
      ]
     },
     "execution_count": 48,
     "metadata": {},
     "output_type": "execute_result"
    }
   ],
   "source": [
    "print(\"Programm zur Berechnung der Fakultät einer Zahl\")\n",
    "n = input(\"Geben Sie eine Zahl an: \")\n",
    "n = int(n)\n",
    "fact = 1\n",
    "  \n",
    "for i in range(1,n+1): \n",
    "    fact = fact * i \n",
    "      \n",
    "f\"Die Fakultät von {n} ist {fact}\" # man könnte mit if Schleifen noch Faktorisierung von Negativen Zahlen bzw. Null abfangen. "
   ]
  },
  {
   "cell_type": "markdown",
   "id": "9c3fcc00",
   "metadata": {},
   "source": [
    "### 6. Bildschirmdarstellung"
   ]
  },
  {
   "cell_type": "markdown",
   "id": "0f31db49",
   "metadata": {},
   "source": [
    "Wie kann folgende Darstellung am Bildschirm generiert werden? Hilfestellungen dazu:\n",
    "<p> ▪ print(i,end=\" \") - end=\" \" am Ende des Aufrufs dafür sorgt, dass der Cursor\n",
    "hinter der letzten Ausgabe stehen bleibt, es wird keine neue Zeile begonnen</p>\n",
    "▪ print(\"%6d\"%j,end=\" \") – Abstand zwischen Ausgaben am Bildschirm wird mit\n",
    "6d formatier"
   ]
  },
  {
   "cell_type": "code",
   "execution_count": 9,
   "id": "62013115",
   "metadata": {},
   "outputs": [
    {
     "name": "stdout",
     "output_type": "stream",
     "text": [
      "   1   2   3   4   5   6   7   8   9  10\n",
      "\n",
      "   2   4   6   8  10  12  14  16  18  20\n",
      "\n",
      "   3   6   9  12  15  18  21  24  27  30\n",
      "\n",
      "   ...\n",
      "   ...\n",
      "\n",
      "\n",
      "  10  20  30  40  50  60  70  80  90 100"
     ]
    }
   ],
   "source": [
    "for j in range(1,11):\n",
    "    print(\"%4d\"%j,end=\"\")\n",
    "print(\"\\n\")\n",
    "\n",
    "for k in range(2,22,2):\n",
    "    print(\"%4d\"%k, end=\"\")\n",
    "print(\"\\n\")\n",
    "    \n",
    "for i in range(3,33,3):\n",
    "    print(\"%4d\"%i, end=\"\")\n",
    "print(\"\\n\")\n",
    "\n",
    "print(\"   ...\")\n",
    "\n",
    "print(\"   ...\")\n",
    "print(\"\\n\")\n",
    "\n",
    "for i in range(10,110,10):\n",
    "    print(\"%4d\"%i, end=\"\")"
   ]
  },
  {
   "cell_type": "code",
   "execution_count": null,
   "id": "eeb29e8a",
   "metadata": {},
   "outputs": [],
   "source": []
  },
  {
   "cell_type": "markdown",
   "id": "2bcd4ee9",
   "metadata": {},
   "source": [
    "### 7. Berechnung mit While Schleife"
   ]
  },
  {
   "cell_type": "markdown",
   "id": "f11e4850",
   "metadata": {},
   "source": [
    "lösen Sie folgende Berechnung mit einer while-Schleife, n soll vom Benutzer eingegebenw\n",
    "erden können.\n",
    "<p>summe=1+2+3+4+5 +(n−1)+n</p>\n"
   ]
  },
  {
   "cell_type": "code",
   "execution_count": null,
   "id": "81dae597",
   "metadata": {},
   "outputs": [
    {
     "name": "stdout",
     "output_type": "stream",
     "text": [
      "Please enter n: 2\n",
      "18\n",
      "Please enter n: 13\n",
      "40\n",
      "Please enter n: 8\n",
      "30\n"
     ]
    }
   ],
   "source": [
    "while True:\n",
    "    n = input(\"Please enter n: \")\n",
    "    if n == \"done\":\n",
    "        break\n",
    "    n = int(n)\n",
    "    # evtl ausserhalb vom loop besser\n",
    "    summe = 1+2+3+4+5+(n-1)+n\n",
    "    print(summe)\n",
    "    "
   ]
  },
  {
   "cell_type": "markdown",
   "id": "cd0ded8d",
   "metadata": {},
   "source": [
    "### 8. Summe von beliebig viel eingegebenen Zahlen"
   ]
  },
  {
   "cell_type": "markdown",
   "id": "05829f82",
   "metadata": {},
   "source": [
    "Schreiben Sie ein Programm für die Summation von interaktiv eingegebenen Zahlen. In\n",
    "dem Programm sollen Zahlen aufsummiert werden, allerdings sollen diese vom Benutzer\n",
    "während der Programmausführung eingegeben werden. Durch die Eingabe der 0 soll die\n",
    "Berechnung durchgeführt und das Programm beendet werden. Die Ausgabe soll so\n",
    "ausschauen:"
   ]
  },
  {
   "cell_type": "code",
   "execution_count": 94,
   "id": "7189100b",
   "metadata": {},
   "outputs": [
    {
     "name": "stdout",
     "output_type": "stream",
     "text": [
      "Sie können beliebig viele Zahlen addieren, um Die Summe zu erhalten geben Sie einfach \"0\" ein\n",
      "Bitte die Zahl oder 0 eingeben: 0\n"
     ]
    },
    {
     "data": {
      "text/plain": [
       "' Die Summe Ihrer eingegebenen Zahlen ist 0. Sie haben 0 Zahlen eingegeben.'"
      ]
     },
     "execution_count": 94,
     "metadata": {},
     "output_type": "execute_result"
    }
   ],
   "source": [
    "print('Sie können beliebig viele Zahlen addieren, um die Summe zu erhalten geben Sie einfach \"0\" ein.')\n",
    "list = []\n",
    "y=1\n",
    "while y != 0:\n",
    "    y = input(\"Bitte die Zahl oder 0 eingeben: \")\n",
    "    y = int(y)\n",
    "    list.append(y)\n",
    "Length = len(list)\n",
    "Length = Length -1 # weil der Nuller sonnst dazuzählt\n",
    "f\" Die Summe Ihrer eingegebenen Zahlen ist {sum(list)}. Sie haben {Length} Zahlen eingegeben.\"\n",
    "\n"
   ]
  },
  {
   "cell_type": "markdown",
   "id": "992bd1fd",
   "metadata": {},
   "source": [
    "### 9. min max"
   ]
  },
  {
   "cell_type": "markdown",
   "id": "bac0ee6c",
   "metadata": {},
   "source": [
    "Schreiben Sie ein Programm, das aus fünf Zahlen durch Benutzereingabe die größte und\n",
    "kleinste Zahl herausfindet und diese am Bildschirm ausgibt. Die Lösung kann mit\n",
    "Systemfunktionen implementiert werden. "
   ]
  },
  {
   "cell_type": "code",
   "execution_count": 98,
   "id": "04483e06",
   "metadata": {},
   "outputs": [
    {
     "name": "stdout",
     "output_type": "stream",
     "text": [
      "geben Sie eine Zahl ein: 1\n",
      "geben Sie eine Zahl ein: 2\n",
      "geben Sie eine Zahl ein: 3\n",
      "geben Sie eine Zahl ein: 4\n",
      "geben Sie eine Zahl ein: 5\n"
     ]
    },
    {
     "data": {
      "text/plain": [
       "' Die höchste zahl ist 5. Die kleinste Zahl ist 1.'"
      ]
     },
     "execution_count": 98,
     "metadata": {},
     "output_type": "execute_result"
    }
   ],
   "source": [
    "Numbers = []\n",
    "q = input(\"geben Sie eine Zahl ein: \")\n",
    "q = int(q)\n",
    "Numbers.append(q)\n",
    "w = input(\"geben Sie eine Zahl ein: \")\n",
    "w = int(w)\n",
    "Numbers.append(w)\n",
    "e = input(\"geben Sie eine Zahl ein: \")\n",
    "e = int(e)\n",
    "Numbers.append(e)\n",
    "r = input(\"geben Sie eine Zahl ein: \")\n",
    "r = int(r)\n",
    "Numbers.append(r)\n",
    "t = input(\"geben Sie eine Zahl ein: \")\n",
    "t = int(t)\n",
    "Numbers.append(t)\n",
    "\n",
    "f\" Die höchste zahl ist {max(Numbers)}. Die kleinste Zahl ist {min(Numbers)}.\""
   ]
  },
  {
   "cell_type": "markdown",
   "id": "04a3618d",
   "metadata": {},
   "source": [
    "### 10. Diagramm"
   ]
  },
  {
   "cell_type": "markdown",
   "id": "0f7c6aed",
   "metadata": {},
   "source": [
    "Identifizieren Sie im folgenden Datenflussdiagramm die einzelnen Komponenten, die sich\n",
    "auf die besprochenen Kontrollstrukturen beziehen. Die Funktionsweise des Algorithmus ist\n",
    "nicht wichtig, es sollen nur die einzelnen Diagramkomponenten mit Hilfe des Textes\n",
    "identifiziert werden. Vergleichen Sie dazu die Shapes „Ablaufdiagramme“ und ev. andere\n",
    "des Tools https://app.diagrams.net/ überblicksmäßig."
   ]
  },
  {
   "cell_type": "code",
   "execution_count": null,
   "id": "626843e3",
   "metadata": {},
   "outputs": [],
   "source": [
    "# zwei Loops, inner & Outer Loop, Outer Loop \n",
    "#1. Start creating a List with Numbers in it\n",
    "myList = [1, 2, 3]\n",
    "#2. Variable N is the amount of Numbers in the List\n",
    "N = len(myList)\n",
    "#3. creating variable i and set it 0 for outer loop\n",
    "i = 0\n",
    "#4. wenn i größer als die Anzahl der Anzahl der Zahlen in der liste ist wird die Liste ausgegeben. \n",
    "if i < N-1:\n",
    "    return(myList)\n",
    "# 5. Wenn nicht wird die Variable j inszeniert und auf 0 gesetzt\n",
    "j = 0\n",
    "# Wenn j größer als die Anzahl der Nummern in der Liste -1 ist wird bei der Variable i 1 dazugezählt. \n",
    "if j < N-1:\n",
    "    if myList > myList(j+1) # Aüßerer Sortierloop. \n",
    "else:\n",
    "    i += 1 # durch den inner loop kann die Rechenlast halbiert werden da eine Vorsortierung vorgenommen wird. "
   ]
  }
 ],
 "metadata": {
  "kernelspec": {
   "display_name": "Python 3 (ipykernel)",
   "language": "python",
   "name": "python3"
  },
  "language_info": {
   "codemirror_mode": {
    "name": "ipython",
    "version": 3
   },
   "file_extension": ".py",
   "mimetype": "text/x-python",
   "name": "python",
   "nbconvert_exporter": "python",
   "pygments_lexer": "ipython3",
   "version": "3.10.4"
  }
 },
 "nbformat": 4,
 "nbformat_minor": 5
}
