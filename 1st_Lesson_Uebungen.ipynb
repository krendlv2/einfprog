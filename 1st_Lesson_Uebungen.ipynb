{
 "cells": [
  {
   "cell_type": "markdown",
   "id": "a7883fd0",
   "metadata": {},
   "source": [
    "### 1. Fahrenheit in Celsius"
   ]
  },
  {
   "cell_type": "code",
   "execution_count": 3,
   "id": "d68b8c6c",
   "metadata": {},
   "outputs": [
    {
     "name": "stdout",
     "output_type": "stream",
     "text": [
      "Umrechnung der Temperaturen von Fahrenheit in Celsius\n",
      "-----------------------------------------------------------\n",
      "\n",
      "Bitte geben Sie eine Temperatur in Fahrenheit ein: 10\n",
      "\n",
      "Sie haben 10.000000 Grad Fahrenheit eingegeben.\n",
      "\n",
      "Diese Temperatur entspricht -12.222222 Grad Celsius.\n"
     ]
    }
   ],
   "source": [
    "# -----------------------------------------------\n",
    "# Programm zur Umrechnung der Temperaturen von Grad Celsius in Grad Fahrenheit\n",
    "#\n",
    "# Autor: BIONF24 Valentin Krendl\n",
    "# Datum: 1. September 2022\n",
    "# -----------------------------------------------\n",
    "print(\"Umrechnung der Temperaturen von Fahrenheit in Celsius\")\n",
    "print(\"-----------------------------------------------------------\")\n",
    "print()\n",
    "Fahrenheit = input(\"Bitte geben Sie eine Temperatur in Fahrenheit ein: \")\n",
    "Fahrenheit = float(Fahrenheit)\n",
    "Celsius = (Fahrenheit -32) * 5/9\n",
    "print()\n",
    "print(\"Sie haben %f Grad Fahrenheit eingegeben.\" % Fahrenheit)\n",
    "print()\n",
    "print(\"Diese Temperatur entspricht %f Grad Celsius.\" % Celsius)"
   ]
  },
  {
   "cell_type": "markdown",
   "id": "d59b154b",
   "metadata": {},
   "source": [
    "### 2. Winkel sin & cos"
   ]
  },
  {
   "cell_type": "code",
   "execution_count": 31,
   "id": "585222e1",
   "metadata": {},
   "outputs": [],
   "source": [
    "import math"
   ]
  },
  {
   "cell_type": "code",
   "execution_count": 32,
   "id": "061e34b3",
   "metadata": {},
   "outputs": [
    {
     "name": "stdout",
     "output_type": "stream",
     "text": [
      "Berechnung des sinus- sowie cosinuswerts eines Winkels\n",
      "-----------------------------------------------------------\n",
      "\n",
      "Geben Sie die Grad Ihres Winkels ein: 32\n",
      "\n"
     ]
    },
    {
     "data": {
      "text/plain": [
       "'Der Sinus Ihres Winkels ist 0.55, der Cosinus ist 0.83'"
      ]
     },
     "execution_count": 32,
     "metadata": {},
     "output_type": "execute_result"
    }
   ],
   "source": [
    "# Programm zur Berechnung des sinus- sowie cosinuswerts von den gegebenen Grad eines Winkels #\n",
    "#\n",
    "# Autor: BIONF24 Valentin Krendl\n",
    "# Datum: 1. September 2022\n",
    "# -----------------------------------------------\n",
    "print(\"Berechnung des sinus- sowie cosinuswerts eines Winkels\")\n",
    "print(\"-----------------------------------------------------------\")\n",
    "print()\n",
    "Grad = input(\"Geben Sie die Grad Ihres Winkels ein: \")\n",
    "Grad = float(Grad)\n",
    "Sinus = math.radians(Sinus) # Umrechnung in rad\n",
    "Sinus = math.sin(Grad)\n",
    "Sinus = round(Sinus, 2) # round to two decimals\n",
    "Cosinus = math.radians(Cosinus) # Umrechnung in rad\n",
    "Cosinus = math.cos(Grad)\n",
    "Cosinus = round(Cosinus, 2) # round to two decimals\n",
    "print()\n",
    "f\"Der Sinus Ihres Winkels ist {Sinus}, der Cosinus ist {Cosinus}\""
   ]
  },
  {
   "cell_type": "markdown",
   "id": "f8fdd613",
   "metadata": {},
   "source": [
    "### 3. Zahlenwert aus Formel"
   ]
  },
  {
   "cell_type": "markdown",
   "id": "6c3578f2",
   "metadata": {},
   "source": [
    "Schreiben Sie ein Programm, das vom Benutzer einen Zahlenwert x (Gleitpunktzahl)\n",
    "anfordert. Für diesen Zahlenwert soll dann die mathematische Funktion berechne\n",
    "werden. Anschließend soll das Programm die Werte x und y auf dem Bildschirm\n",
    "ausgeben. Testen Sie das Programm"
   ]
  },
  {
   "cell_type": "markdown",
   "id": "692bfa5c",
   "metadata": {},
   "source": [
    "y = (1/2)x^3 - (1/2)x^2 + 2x + 5"
   ]
  },
  {
   "cell_type": "code",
   "execution_count": 46,
   "id": "80c6bbe2",
   "metadata": {},
   "outputs": [
    {
     "name": "stdout",
     "output_type": "stream",
     "text": [
      "Formelberechnung\n",
      "-----------------------------------------------------------\n",
      "\n",
      "geben Sie x an: 13\n"
     ]
    },
    {
     "data": {
      "text/plain": [
       "'y = 263.375 wenn x = 13.0'"
      ]
     },
     "execution_count": 46,
     "metadata": {},
     "output_type": "execute_result"
    }
   ],
   "source": [
    "print(\"Formelberechnung\")\n",
    "print(\"-----------------------------------------------------------\")\n",
    "print()\n",
    "x = input(\"geben Sie x an: \")\n",
    "x = float(x)\n",
    "y = ((0.5*x)**3) - ((0.5*x)**2) + 2*x + 5 # exponent-operator ist ** und nicht ^\n",
    "f\"y = {y} wenn x = {x}\""
   ]
  },
  {
   "cell_type": "markdown",
   "id": "882fc61d",
   "metadata": {},
   "source": [
    "### 4. is it true?"
   ]
  },
  {
   "cell_type": "markdown",
   "id": "ad355ad0",
   "metadata": {},
   "source": [
    "Verwenden Sie den Eingabeprompt Python-Shell, um den folgenden logischen Ausdruck\n",
    "auf Wahrheit bzw. Falschheit zu testen. Erklären Sie, wie das Ergebnis zustande kommt."
   ]
  },
  {
   "cell_type": "markdown",
   "id": "ad605e10",
   "metadata": {},
   "source": [
    "((8 kleiner 5) oder (4 ungleich 7)) und (nicht (4 gleich 5))"
   ]
  },
  {
   "cell_type": "code",
   "execution_count": 1,
   "id": "c4f53241",
   "metadata": {},
   "outputs": [
    {
     "data": {
      "text/plain": [
       "True"
      ]
     },
     "execution_count": 1,
     "metadata": {},
     "output_type": "execute_result"
    }
   ],
   "source": [
    "((8<5) or (4 != 7)) and (not(4 == 5))"
   ]
  },
  {
   "cell_type": "code",
   "execution_count": 48,
   "id": "59a13dae",
   "metadata": {},
   "outputs": [],
   "source": [
    "# da bei den ersten beiden ein or steht muss nur eines davon true sein, \n",
    "# da bei dem dritten Vergleich ein not dabei steht dreht es die Logik von dem == um. Somit bleibt es true"
   ]
  },
  {
   "cell_type": "markdown",
   "id": "2d423d50",
   "metadata": {},
   "source": [
    "### 5. Namensabfrage und String Manipulation"
   ]
  },
  {
   "cell_type": "markdown",
   "id": "b79aaf03",
   "metadata": {},
   "source": [
    "Schreiben Sie ein Programm, das den Benutzer zur Eingabe seines Namens auffordert.\n",
    "Anschließend soll ein Willkommenstext auf dem Bildschirm ausgegeben werden, in dem\n",
    "der Name des Anwenders erscheint. Hinweis: Zur Ausgabe von Zeichenketten durch die\n",
    "print()-Funktion dient das Formatelement %s. "
   ]
  },
  {
   "cell_type": "code",
   "execution_count": 52,
   "id": "6ed2fbf8",
   "metadata": {},
   "outputs": [
    {
     "name": "stdout",
     "output_type": "stream",
     "text": [
      "wie lautet ihr Vorname? günther\n",
      "wie lautet Ihr Nachname? Heinz\n"
     ]
    },
    {
     "data": {
      "text/plain": [
       "'Hallo günther Heinz, freut mich Sie kennen zu lernen.'"
      ]
     },
     "execution_count": 52,
     "metadata": {},
     "output_type": "execute_result"
    }
   ],
   "source": [
    "# Begrüßungsbot\n",
    "Vorname = input(\"wie lautet ihr Vorname? \")\n",
    "Nachname = input(\"wie lautet Ihr Nachname? \")\n",
    "f\"Hallo {Vorname} {Nachname}, freut mich Sie kennen zu lernen.\""
   ]
  },
  {
   "cell_type": "markdown",
   "id": "e5f29256",
   "metadata": {},
   "source": [
    "### 6. Turtlebot"
   ]
  },
  {
   "cell_type": "markdown",
   "id": "d6454b5e",
   "metadata": {},
   "source": [
    "Schreiben Sie ein Programm, das eines der Objekte mit der Turtle-Grafik. erzeugt:\n",
    "gleichseitiges Dreieck, ein Quadrat, in gleichseitiges Fünfeck und ein gleichseitiges\n",
    "Sechseck Die Seitenlänge der Figuren soll dabei immer 100 Pixel betragen. Wechseln\n",
    "Sie die Farben und Strichstärken zwischen den einzelnen Grafiken."
   ]
  },
  {
   "cell_type": "code",
   "execution_count": 11,
   "id": "7b01f013",
   "metadata": {},
   "outputs": [],
   "source": [
    "from mobilechelonian import Turtle # braucht man im jupyter Notebook"
   ]
  },
  {
   "cell_type": "code",
   "execution_count": 12,
   "id": "c1d71bd7",
   "metadata": {},
   "outputs": [
    {
     "data": {
      "application/vnd.jupyter.widget-view+json": {
       "model_id": "d9cdf3b4667240639686e650959b4c98",
       "version_major": 2,
       "version_minor": 0
      },
      "text/plain": [
       "Turtle()"
      ]
     },
     "metadata": {},
     "output_type": "display_data"
    }
   ],
   "source": [
    "t = Turtle()\n",
    "def quadrat():\n",
    "    turtle.forward(100)\n",
    "    turtle.left(100)\n",
    "    turtle.left(100)\n",
    "    turtle.left(100)\n",
    "    turtle.bye()\n",
    "def dreieck():\n",
    "    turtle.forward(100)\n",
    "    turtle.left(120)\n",
    "    turtle.forward(100)\n",
    "    turtle.left(120)\n",
    "    turtle.forward(100)\n",
    "    turtle.done\n",
    "def fünfeck():\n",
    "    makeTurtle()\n",
    "    right(90)\n",
    "    for i in range (0,4):\n",
    "        forward(100)\n",
    "        left(72)\n",
    "    hideTurtle()\n",
    "def sechseck():\n",
    "    makeTurtle()\n",
    "    right(90)\n",
    "    for i in range (0,5):\n",
    "        forward(100)\n",
    "        left(120)\n",
    "    hideTurtle()"
   ]
  },
  {
   "cell_type": "code",
   "execution_count": null,
   "id": "78073681",
   "metadata": {},
   "outputs": [],
   "source": [
    "# geht ned in Jupyter, ich schreibs nachher in Pycharm... =("
   ]
  },
  {
   "cell_type": "markdown",
   "id": "775f9720",
   "metadata": {},
   "source": [
    "### Kreiszylinder"
   ]
  },
  {
   "cell_type": "markdown",
   "id": "bb7fc6bd",
   "metadata": {},
   "source": [
    "Erstellen Sie ein Programm, das die Oberfläche O, die Mantelfläche M sowie das\n",
    "Volumen V eines Kreiszylinders berechnet. Der Kreiszylinder soll durch die Höhe H und\n",
    "18\n",
    "den Radius R definiert sein. Diese Größen soll der Benutzer des Programms über die\n",
    "Tastatur eingeben und die Ergebnisse gut lesbar ausgegeben werden. "
   ]
  },
  {
   "cell_type": "markdown",
   "id": "4a6d0e37",
   "metadata": {},
   "source": [
    "<p>V = pi * R^2</p>\n",
    "<p>M = 2pi * r * h</p>\n",
    "<p>O = 2pi * R (R + H)</p>"
   ]
  },
  {
   "cell_type": "code",
   "execution_count": 7,
   "id": "c0d41ade",
   "metadata": {},
   "outputs": [
    {
     "name": "stdout",
     "output_type": "stream",
     "text": [
      "Mit diesem Programm können Sie das Volumen, die Mantelfläche sowie die Oberfläche eines Kreiszylinders berechnen\n",
      "Höhe: 10\n",
      "Radius: 1\n"
     ]
    },
    {
     "data": {
      "text/plain": [
       "' Das Volumen ist 3.14, Die Mantelfläche ist 62.83, Die Oberfläche ist 69.12.'"
      ]
     },
     "execution_count": 7,
     "metadata": {},
     "output_type": "execute_result"
    }
   ],
   "source": [
    "import math\n",
    "print(\"Mit diesem Programm können Sie das Volumen, die Mantelfläche sowie die Oberfläche eines Kreiszylinders berechnen\")\n",
    "H = input(\"Höhe: \")\n",
    "H = float(H)\n",
    "R = input(\"Radius: \")\n",
    "R = float(R)\n",
    "V = math.pi*(R**2)\n",
    "V = round(V, 2)\n",
    "M = 2*(math.pi)*R*H\n",
    "M = round(M, 2)\n",
    "O = 2*(math.pi) * R * (R + H)\n",
    "O = round(O, 2)\n",
    "f\" Das Volumen ist {V}, Die Mantelfläche ist {M}, Die Oberfläche ist {O}.\""
   ]
  },
  {
   "cell_type": "code",
   "execution_count": null,
   "id": "e151cb31",
   "metadata": {},
   "outputs": [],
   "source": []
  }
 ],
 "metadata": {
  "kernelspec": {
   "display_name": "Python 3 (ipykernel)",
   "language": "python",
   "name": "python3"
  },
  "language_info": {
   "codemirror_mode": {
    "name": "ipython",
    "version": 3
   },
   "file_extension": ".py",
   "mimetype": "text/x-python",
   "name": "python",
   "nbconvert_exporter": "python",
   "pygments_lexer": "ipython3",
   "version": "3.10.4"
  }
 },
 "nbformat": 4,
 "nbformat_minor": 5
}
