{
 "cells": [
  {
   "cell_type": "markdown",
   "metadata": {
    "id": "dcJaOZ7xHrM8"
   },
   "source": [
    "**FH Campus Wien Master Bioinformatik | LV “ Einführung in das Programmieren”  Winter 22/23 | DI Dr. Gerhard Gaube |\n",
    "Übung 2: Funktionen**\n",
    "\n",
    "\n",
    "---\n",
    "\n",
    "\n",
    "\n"
   ]
  },
  {
   "cell_type": "markdown",
   "metadata": {
    "id": "zKTMRaxlQaRI"
   },
   "source": [
    "# **1 Definition und Aufruf von Funktionen**\n",
    "*  Testen Sie folgende Code-Snippets\n",
    "*  Generieren Sie bewußt Fehler und untersuchen dann das Ergebnis\n",
    "*  Erweitern Sie den Code jeweils um eine Funktion ähnlicher Funktionalität"
   ]
  },
  {
   "cell_type": "markdown",
   "metadata": {
    "id": "xue5zIlCEKob"
   },
   "source": [
    "### **1.1 Definition und Aufruf einer Funktion**\n",
    "\n"
   ]
  },
  {
   "cell_type": "code",
   "execution_count": 1,
   "metadata": {
    "id": "PID7_KuXC2Zo"
   },
   "outputs": [
    {
     "name": "stdout",
     "output_type": "stream",
     "text": [
      "foo1()\n"
     ]
    }
   ],
   "source": [
    "# Hier definieren wir die Funktion foo1 ohne Eingabeparameter\n",
    "\n",
    "def foo1(): \n",
    "  print(\"foo1()\")\n",
    "\n",
    "# Aufruf von foo1 \n",
    "foo1()"
   ]
  },
  {
   "cell_type": "code",
   "execution_count": 10,
   "metadata": {
    "id": "7W0gcdxhFK2K"
   },
   "outputs": [
    {
     "name": "stdout",
     "output_type": "stream",
     "text": [
      "foo2( 44 )\n",
      "foo2( Hallo )\n"
     ]
    },
    {
     "ename": "TypeError",
     "evalue": "foo2() missing 1 required positional argument: 'x'",
     "output_type": "error",
     "traceback": [
      "\u001b[1;31m---------------------------------------------------------------------------\u001b[0m",
      "\u001b[1;31mTypeError\u001b[0m                                 Traceback (most recent call last)",
      "Input \u001b[1;32mIn [10]\u001b[0m, in \u001b[0;36m<cell line: 11>\u001b[1;34m()\u001b[0m\n\u001b[0;32m      8\u001b[0m \u001b[38;5;66;03m# Aufruf von foo2 mit Zeichenkette als Eingabeparameter \u001b[39;00m\n\u001b[0;32m      9\u001b[0m \u001b[38;5;66;03m# Da Python dynamisch typisiert ist, ist das möglich\u001b[39;00m\n\u001b[0;32m     10\u001b[0m foo2(\u001b[38;5;124m\"\u001b[39m\u001b[38;5;124mHallo\u001b[39m\u001b[38;5;124m\"\u001b[39m)\n\u001b[1;32m---> 11\u001b[0m \u001b[43mfoo2\u001b[49m\u001b[43m(\u001b[49m\u001b[43m)\u001b[49m\n",
      "\u001b[1;31mTypeError\u001b[0m: foo2() missing 1 required positional argument: 'x'"
     ]
    }
   ],
   "source": [
    "# Funktion foo mit Eingabeparameter x\n",
    "\n",
    "def foo2(x):\n",
    "  print(\"foo2(\", x, \")\")\n",
    "\n",
    "foo2(44)\n",
    "\n",
    "# Aufruf von foo2 mit Zeichenkette als Eingabeparameter \n",
    "# Da Python dynamisch typisiert ist, ist das möglich\n",
    "foo2(\"Hallo\")\n",
    "foo2() # ohne Eingabeparameter kommts zum Error"
   ]
  },
  {
   "cell_type": "code",
   "execution_count": 3,
   "metadata": {
    "id": "WkNnjGhPFxTu"
   },
   "outputs": [
    {
     "name": "stdout",
     "output_type": "stream",
     "text": [
      "foo3( 42 , bla )\n"
     ]
    }
   ],
   "source": [
    "# Funktion foo3 mit zwei Eingabeparameter x und y\n",
    "\n",
    "def foo3(x, y):\n",
    "  print(\"foo3(\", x, \",\", y, \")\")\n",
    "\n",
    "foo3(42, \"bla\")"
   ]
  },
  {
   "cell_type": "code",
   "execution_count": 14,
   "metadata": {
    "id": "Cw3Mj5beU70u"
   },
   "outputs": [
    {
     "name": "stdout",
     "output_type": "stream",
     "text": [
      "Help on function fkt in module __main__:\n",
      "\n",
      "fkt(xa, ya, xb, yb)\n",
      "    diese Kommentare dienen der\n",
      "    Dokumentation und erscheinen\n",
      "    als Hilfe wenn man help (fkt)\n",
      "    aufruft\n",
      "\n"
     ]
    }
   ],
   "source": [
    "def fkt(xa,ya,xb,yb): \n",
    "  \"\"\"diese Kommentare dienen der\n",
    "  Dokumentation und erscheinen\n",
    "  als Hilfe wenn man help (fkt)\n",
    "  aufruft\"\"\"\n",
    "  print (\"In der Funktion fkt()\") # das print braucht man denk ich ned für help, es ändert sich auch ix wenn mans auskommentiert. \n",
    "\n",
    "help(fkt)\n",
    "  "
   ]
  },
  {
   "cell_type": "markdown",
   "metadata": {
    "id": "Xi-8VDBPLC07"
   },
   "source": [
    "### **1.2 Typisierung der Parameter von Funktionen**"
   ]
  },
  {
   "cell_type": "code",
   "execution_count": 17,
   "metadata": {
    "id": "p-suNBueF_Ot"
   },
   "outputs": [
    {
     "data": {
      "text/plain": [
       "'3bla'"
      ]
     },
     "execution_count": 17,
     "metadata": {},
     "output_type": "execute_result"
    }
   ],
   "source": [
    "# Eine Funktion kann auch mithilfe des Befehls return \n",
    "# einen oder mehrere Rückgabewerte zurückgeben\n",
    "\n",
    "def add(a, b):\n",
    "  return a+b\n",
    "\n",
    "# Aufruf von add ()\n",
    "add(3, 5)\n",
    "\n",
    "# Was passiert, wenn add() mit einem falschen Datentyp aufgerufen wird?\n",
    "#add (3, \"bla\") # error weil 3 kein int ist und er damit ned rechnen kann. \n",
    "add(\"3\", \"bla\") # funktioniert dann wieder. \n"
   ]
  },
  {
   "cell_type": "code",
   "execution_count": 18,
   "metadata": {
    "id": "IKwHHHkLLapT"
   },
   "outputs": [
    {
     "name": "stdout",
     "output_type": "stream",
     "text": [
      "Richtige Datentypen:  4\n",
      "Fehler: Die Eingabeparameter haben den falschen Datentypen\n",
      "Falsch mit String  None\n",
      "Fehler: Die Eingabeparameter haben den falschen Datentypen\n",
      "Falsch mit float  None\n"
     ]
    }
   ],
   "source": [
    "# Da Python dynamisch typisiert ist, müssen wir sicherstellen, dass \n",
    "# wirklich zwei Ganzzahlen übergeben wurden\n",
    "\n",
    "def add(a, b):\n",
    "# Dieses IF-Statement überprüft die Datentypen der Eingabeparameter\n",
    "  if type(a) != int or type(b) != int:\n",
    "    print(\"Fehler: Die Eingabeparameter haben den falschen Datentypen\")\n",
    "  else:\n",
    "    return a + b\n",
    "\n",
    "# Aufruf mit richtigen Datentypen\n",
    "print(\"Richtige Datentypen: \",add(1, 3))\n",
    "\n",
    "# Aufruf mit falschen Datentypen\n",
    "print(\"Falsch mit String \", add(\"1\", 3))\n",
    "\n",
    "# Eine Gleitkommazahl ist keine Ganzzahl, daher wird  \n",
    "# eine Fehlermeldung␣ ausgegeben\n",
    "print(\"Falsch mit float \",add(3, 3.5))\n",
    "\n"
   ]
  },
  {
   "cell_type": "code",
   "execution_count": 19,
   "metadata": {
    "id": "ibdwHRZwNgFk"
   },
   "outputs": [
    {
     "name": "stdout",
     "output_type": "stream",
     "text": [
      "4\n",
      "6.5\n",
      "Fehler: Die Eingabeparameter haben den falschen Datentypen\n"
     ]
    }
   ],
   "source": [
    "# Überprüfung der Datentypen der Eingabeparameter\n",
    "\n",
    "def add2(a, b):\n",
    "  if not isinstance(a, (int, float)) or not isinstance(b, (int, float)):\n",
    "    print(\"Fehler: Die Eingabeparameter haben den falschen Datentypen\")\n",
    "  else:\n",
    "    return a + b\n",
    "\n",
    "# Aufruf mit  richtigen Datentypen auf\n",
    "print (add2(1, 3))\n",
    "\n",
    "# Diesmal keine Fehlermeldung, da Ganz- und Gleitkommazahlen zugelassen sind\n",
    "print (add2(3, 3.5))\n",
    "\n",
    "# Fehlermeldung, da falscher und sinnloser Datentypen\n",
    "add2(\"1\", 3)\n"
   ]
  },
  {
   "cell_type": "code",
   "execution_count": 20,
   "metadata": {
    "id": "szkWlOyUP04v"
   },
   "outputs": [
    {
     "name": "stdout",
     "output_type": "stream",
     "text": [
      "Das Ergebnis ist 5\n",
      "Ein Fehler ist aufgetreten\n"
     ]
    }
   ],
   "source": [
    "# Wir können die add() Funktion so umschreiben, dass statt \n",
    "# einer Fehlermeldung \"None\" zurückgegen wird\n",
    "\n",
    "def add(a, b):\n",
    "  if type(a) != int or type(b) != int:\n",
    "    return None\n",
    "  else:\n",
    "    return a + b\n",
    "\n",
    "# Überprüfung bei Aufruf der Funktion\n",
    "result = add(2, 3)\n",
    "if result == None:\n",
    "  print(\"Ein Fehler ist aufgetreten\")\n",
    "else:\n",
    "  print(\"Das Ergebnis ist\", result)\n",
    "\n",
    "result = add(\"2\", 3)\n",
    "if result == None:\n",
    "  print(\"Ein Fehler ist aufgetreten\")\n",
    "else:\n",
    "  print(\"Das Ergebnis ist\", result)"
   ]
  },
  {
   "cell_type": "markdown",
   "metadata": {},
   "source": [
    "Die Kundenfreundlichste Alternative zu diesen Eingabefiltern ist auf alle Gegebenheiten der EIngabe eine Eigene Antwort zu geben.\n",
    "Sprich die Eingabe möglichst DAU-Freundlich zu machen kommt im Webdevelopment öfters vor. \n",
    "Gibt sicher die ein oder andere Bibliothek für solche Abfragen, wird in modernen Abfragen aber oft mit AJAX gemacht wenn ein Datenbankabgleich notwendig ist. \n",
    "Beispiel: Userx exisistiert bereits, nehmen Sie einen anderen Usernamen, etc."
   ]
  },
  {
   "cell_type": "markdown",
   "metadata": {
    "id": "dc-E8XTLeqqa"
   },
   "source": [
    "### **1.3 Variablen Scope in Funktionen**"
   ]
  },
  {
   "cell_type": "code",
   "execution_count": 34,
   "metadata": {
    "id": "fnxUrHBqexEr"
   },
   "outputs": [
    {
     "name": "stdout",
     "output_type": "stream",
     "text": [
      "2.718281828459045\n",
      "-1234\n"
     ]
    }
   ],
   "source": [
    "# Interpretieren und korrigieren Sie folgenden Code aus der VL\n",
    "\n",
    "from math import e # e wird als eulersche Zahl vom math-Modul importiert\n",
    "def myBadE():\n",
    "    global e # e wird global gesetzt\n",
    "    print (e) # eulersche Zahl wird gedruckt\n",
    "    e = -1234 # e wird global geändert und kann auch ausserhalb der Funktion angesprochen werden. \n",
    "\n",
    "myBadE() # Funktion wird aufgerufen, python ist iterativ, deshalb wird eulersche Zahl gedruckt\n",
    "myBadE() # # Nachdem Funktion einmal durchlaufen ist, ist e geändert und es wird das neue e ausgegeben. \n",
    "# um e wieder umzuändern könnte ich entweder mit return arbeiten oder erneut importieren, bzw. den import in meine Funktion aufnehmen. "
   ]
  },
  {
   "cell_type": "code",
   "execution_count": 35,
   "metadata": {},
   "outputs": [
    {
     "name": "stdout",
     "output_type": "stream",
     "text": [
      "-1234\n"
     ]
    }
   ],
   "source": [
    "global e # da e jetzt global ist kann ich auch von ausserhalb der Funktion auf die Variable zugreiffen. \n",
    "print(e)"
   ]
  },
  {
   "cell_type": "markdown",
   "metadata": {
    "id": "CjFZNklnNN8v"
   },
   "source": [
    "### **1.4 Reihenfolge der Parameter von Funktionen**"
   ]
  },
  {
   "cell_type": "code",
   "execution_count": 38,
   "metadata": {
    "id": "36QIO-7kFZQk"
   },
   "outputs": [
    {
     "name": "stdout",
     "output_type": "stream",
     "text": [
      "a = 3\n",
      "b = 9\n",
      "Führe vertausche() aus\n",
      "a = 3\n",
      "b = 9\n"
     ]
    }
   ],
   "source": [
    "# Diese Funktion hat zwei Eingabeparameter, und gibt diese \n",
    "# in umgekehrter Reihenfolge zurück\n",
    "def vertausche(a, b):\n",
    "  return b, a\n",
    "\n",
    "a = 3\n",
    "b = 9\n",
    "\n",
    "# Die Werte vor dem Vertauschen\n",
    "print(\"a =\", a)\n",
    "print(\"b =\", b)\n",
    "\n",
    "print(\"Führe vertausche() aus\")\n",
    "a, b = vertausche(a, b)\n",
    "\n",
    "# Die Werte nach dem Vertauschen\n",
    "print(\"a =\", a)\n",
    "print(\"b =\", b)"
   ]
  },
  {
   "cell_type": "code",
   "execution_count": 40,
   "metadata": {},
   "outputs": [
    {
     "name": "stdout",
     "output_type": "stream",
     "text": [
      "c= 3\n",
      "d= 9\n",
      "jetzt wird vertauscht\n",
      "c= 9\n",
      "d= 3\n"
     ]
    }
   ],
   "source": [
    "#mycode\n",
    "#ist auch mit einer temporären Variable möglich \n",
    "c = 3\n",
    "d = 9\n",
    "print(\"c=\",c)\n",
    "print(\"d=\",d)\n",
    "print(\"jetzt wird vertauscht\")\n",
    "temp = c\n",
    "c = d\n",
    "d = temp\n",
    "print(\"c=\",c)\n",
    "print(\"d=\",d)"
   ]
  },
  {
   "cell_type": "markdown",
   "metadata": {
    "id": "M8JcgenjHlVg"
   },
   "source": [
    "### **1.5 Berechnung ggT**\n",
    "*   Testen und Untersuchen Sie den Datenfluss des Programms\n",
    "*   Debuggen Sie den Code in PyCharm mit unterschiedlichen Breakpoints\n",
    "\n"
   ]
  },
  {
   "cell_type": "code",
   "execution_count": 42,
   "metadata": {
    "id": "Y9RPkXFkH-fX"
   },
   "outputs": [
    {
     "name": "stdout",
     "output_type": "stream",
     "text": [
      "ggT(6, 9) = 3\n"
     ]
    }
   ],
   "source": [
    "# Mit allem, was wir bisher besprochen haben, können wir nun \n",
    "# ein Programm schreiben, welches den größten gemeinsamen Teiler \n",
    "# zweier Zahlen berechnen\n",
    "\n",
    "def vertausche(a, b): # funktion wird deklariert\n",
    "  return b, a # Werte werden umgekehrt zurück gegeben.\n",
    "\n",
    "def ggT(a, b): # ggT wird deklariert\n",
    "  while a > 0: # Schleife während a größer als 0 ist\n",
    "    if a < b: # noch eine if schleife welche gilt wenn a größer als b ist\n",
    "      a, b = vertausche(a, b) # jetzt werden die Werte vertauscht\n",
    "    a = a - b \n",
    "  return b # wenn a 0 ist, ist eine subtraktion unnötig\n",
    "\n",
    "print(\"ggT(6, 9) =\", ggT(6, 9)) # es wird 9 - 6 gerechnet\n",
    "\n",
    "# Das ist ein Programm welches immer die größere Zahl mit der kleineren subtrahiert. "
   ]
  },
  {
   "cell_type": "markdown",
   "metadata": {
    "id": "dBwFcEdKFHVf"
   },
   "source": [
    "# **2 Aufgabenstellungen**"
   ]
  },
  {
   "cell_type": "markdown",
   "metadata": {
    "id": "GgXK8OQZE_x9"
   },
   "source": [
    "### **2.1 Korrigieren bzw. Ergänzen Sie folgende Code-Snippets**"
   ]
  },
  {
   "cell_type": "code",
   "execution_count": 50,
   "metadata": {
    "id": "qX88NMXXFeHO"
   },
   "outputs": [
    {
     "name": "stdout",
     "output_type": "stream",
     "text": [
      "hi\n"
     ]
    }
   ],
   "source": [
    "def hi():\n",
    "    print(\"hi\")\n",
    "\n",
    "hi() # weg mit dem fünfer"
   ]
  },
  {
   "cell_type": "code",
   "execution_count": 52,
   "metadata": {
    "id": "PcJAwL3yM5jC"
   },
   "outputs": [
    {
     "name": "stdout",
     "output_type": "stream",
     "text": [
      "hi!\n"
     ]
    }
   ],
   "source": [
    "hi()\n",
    "\n",
    "def hi():\n",
    "    return(\"hi!\") #sonnst ist das vorige \"hi\" aktiv"
   ]
  },
  {
   "cell_type": "code",
   "execution_count": 54,
   "metadata": {
    "id": "qQm-4c3tM6L-"
   },
   "outputs": [
    {
     "name": "stdout",
     "output_type": "stream",
     "text": [
      "Enter a number: 3\n"
     ]
    }
   ],
   "source": [
    "def message(number):\n",
    "    print(\"Enter a number:\", number)\n",
    "\n",
    "message(3) #braucht einen Eingabeparameter"
   ]
  },
  {
   "cell_type": "code",
   "execution_count": 57,
   "metadata": {
    "id": "2Gm6J9PEM6rW"
   },
   "outputs": [
    {
     "name": "stdout",
     "output_type": "stream",
     "text": [
      "Enter what number 3\n"
     ]
    }
   ],
   "source": [
    "def message(what, number):\n",
    "    print(\"Enter\", what, \"number\", number)\n",
    "\n",
    "# Call the function here\n",
    "message(\"what\", 3) # War die Aufgabenstellung nur das wir die Funktion aufrufen oder hab ich das falsch verstanden?"
   ]
  },
  {
   "cell_type": "code",
   "execution_count": 58,
   "metadata": {
    "id": "LZh90qeVNIXW"
   },
   "outputs": [
    {
     "name": "stdout",
     "output_type": "stream",
     "text": [
      "Hello, my name is John Smith\n"
     ]
    }
   ],
   "source": [
    "def introduction(first_name, last_name=\"Smith\"):\n",
    "    print(\"Hello, my name is\", first_name, last_name)\n",
    "\n",
    "# Call the function here\n",
    "introduction(\"John\")"
   ]
  },
  {
   "cell_type": "code",
   "execution_count": 4,
   "metadata": {
    "colab": {
     "base_uri": "https://localhost:8080/"
    },
    "id": "_PaQ8NSVNI3-",
    "outputId": "3938ef61-eb67-4274-d5fb-c4692bcb9209"
   },
   "outputs": [
    {
     "name": "stdout",
     "output_type": "stream",
     "text": [
      "My name is Bond. James Bond.\n"
     ]
    }
   ],
   "source": [
    "# Warum ist die Ausgaben so?\n",
    "def intro(a=\"James Bond\", b=\"Bond\"):\n",
    "    print(\"My name is\", b + \".\", a + \".\")\n",
    "\n",
    "intro() # weil vorher b ausgegeben wird dann ein Punkt und dann a, danach noch ein Punkt"
   ]
  },
  {
   "cell_type": "code",
   "execution_count": 75,
   "metadata": {},
   "outputs": [
    {
     "data": {
      "text/plain": [
       "10"
      ]
     },
     "execution_count": 75,
     "metadata": {},
     "output_type": "execute_result"
    }
   ],
   "source": [
    "# Welches Ergebnis ist zu erwarten?\n",
    "def summation(a,b):\n",
    "    x = 5\n",
    "    return a+b+x\n",
    "summation(2, 3) #er adiert jetzt zu meiner Eingabe immer 5 dazu"
   ]
  },
  {
   "cell_type": "code",
   "execution_count": 76,
   "metadata": {
    "id": "x7bRJ03lNagp"
   },
   "outputs": [
    {
     "name": "stdout",
     "output_type": "stream",
     "text": [
      "My name is Sean Connery. James Bond.\n"
     ]
    }
   ],
   "source": [
    "# Warum ist die Ausgaben so?\n",
    "def intro(a=\"James Bond\", b=\"Bond\"):\n",
    "    print(\"My name is\", b + \".\", a + \".\")\n",
    "\n",
    "intro(b=\"Sean Connery\") # weil Python iterativ ist und b geändert wird."
   ]
  },
  {
   "cell_type": "markdown",
   "metadata": {
    "id": "PlsAd09PHwFu"
   },
   "source": [
    "### **2.2 Ändern Sie folgenden Code, sodass die gleiche Funktionalität mit Funktionen umgesetzt wird**"
   ]
  },
  {
   "cell_type": "code",
   "execution_count": 77,
   "metadata": {
    "id": "ow46e15ZD5MU"
   },
   "outputs": [
    {
     "name": "stdout",
     "output_type": "stream",
     "text": [
      "Enter a value: \n",
      "2\n",
      "Enter a value: \n",
      "3\n",
      "Enter a value: \n",
      "4\n"
     ]
    }
   ],
   "source": [
    "# Kapseln Sie gemeinsame Codeelemente in eine Funktion \n",
    "\n",
    "print(\"Enter a value: \")\n",
    "a = int(input())\n",
    "\n",
    "print(\"Enter a value: \")\n",
    "b = int(input())\n",
    "\n",
    "print(\"Enter a value: \")\n",
    "c = int(input())"
   ]
  },
  {
   "cell_type": "code",
   "execution_count": 86,
   "metadata": {},
   "outputs": [
    {
     "name": "stdout",
     "output_type": "stream",
     "text": [
      "Enter a value: 2\n",
      "Enter a value: 3\n",
      "Enter a value: 4\n"
     ]
    }
   ],
   "source": [
    "#mycode\n",
    "def zahl():\n",
    "    x = int(input(\"Enter a value: \"))\n",
    "\n",
    "for i in range(3):\n",
    "    zahl()"
   ]
  },
  {
   "cell_type": "code",
   "execution_count": null,
   "metadata": {
    "id": "CJRxKQXaRP80"
   },
   "outputs": [],
   "source": [
    "# Berechnung Flaeche und Umfang von Kreis und Rechteck\n",
    "\n",
    "from math import pi\n",
    "\n",
    "# Kreis\n",
    "Radius = 10.0\n",
    "Umfang = 2*pi*Radius\n",
    "Flaeche = pi*Radius**2\n",
    "print(\"Die Flaeche ist %8.2f\" % Flaeche) \n",
    "print(\"Der Umfang ist %8.2f\" % Umfang) \n",
    "print() \n",
    "\n",
    "# Rechteck\n",
    "Hoehe = 10.0\n",
    "Breite = 50.0\n",
    "Umfang = 2*(Hoehe+Breite)\n",
    "Flaeche = Breite*Hoehe\n",
    "print(\"Die Flaeche ist %8.2f\" % Flaeche) \n",
    "print(\"Der Umfang ist %8.2f\" % Umfang) \n",
    "print()\n",
    "\n",
    "# Berechnung Flaeche und Umfang von Kreis und Rechteck \n",
    "# Mit Funktionen und Benutzereingabe\n",
    "# Code TODO\n"
   ]
  },
  {
   "cell_type": "code",
   "execution_count": 102,
   "metadata": {},
   "outputs": [
    {
     "name": "stdout",
     "output_type": "stream",
     "text": [
      "Geben Sie den Radius an: 12\n",
      " Die Fläche ist 452.39\n",
      " Der Umfang ist 75.4\n",
      "Geben Sie die Höhe an: 13\n",
      "Geben Sie die Breite an: 14\n",
      " Die Fläche ist 182.0\n",
      " Der Umfang ist 54.0\n"
     ]
    }
   ],
   "source": [
    "#mycode\n",
    "from math import pi\n",
    "\n",
    "def Kreis():\n",
    "    Radius = int(input(\"Geben Sie den Radius an: \"))\n",
    "    Umfang = 2*pi*Radius\n",
    "    Flaeche = pi*Radius**2\n",
    "    print(f\" Die Fläche ist {round(Flaeche, 2)}\")\n",
    "    print(f\" Der Umfang ist {round(Umfang, 2)}\")\n",
    "    \n",
    "def Rechteck():\n",
    "    Hoehe = float(input(\"Geben Sie die Höhe an: \"))\n",
    "    Breite = float(input(\"Geben Sie die Breite an: \"))\n",
    "    Umfang = 2*(Hoehe+Breite)\n",
    "    Flaeche = Breite*Hoehe\n",
    "    print(f\" Die Fläche ist {Flaeche}\")\n",
    "    print(f\" Der Umfang ist {Umfang}\")\n",
    "\n",
    "Kreis()\n",
    "Rechteck()"
   ]
  },
  {
   "cell_type": "markdown",
   "metadata": {
    "id": "SbOjCYFWaSia"
   },
   "source": [
    "### **2.3 Implementieren Sie folgende Berechnungen**"
   ]
  },
  {
   "cell_type": "code",
   "execution_count": null,
   "metadata": {
    "id": "yEztRFlkan4N"
   },
   "outputs": [],
   "source": [
    "# Funktion: f(x) = x^2 + 5x + 6\n",
    "# Code TODO"
   ]
  },
  {
   "cell_type": "code",
   "execution_count": 107,
   "metadata": {},
   "outputs": [
    {
     "name": "stdout",
     "output_type": "stream",
     "text": [
      "geben Sie x an: 1\n",
      "12\n"
     ]
    }
   ],
   "source": [
    "#mycode versteh die Angabe aber ned genau^^\n",
    "def Funktion():\n",
    "    x = int(input(\"geben Sie x an: \"))\n",
    "    fx = x**2 + 5*x + 6\n",
    "    print(fx)\n",
    "Funktion()"
   ]
  },
  {
   "cell_type": "code",
   "execution_count": 109,
   "metadata": {
    "id": "CTt0mwu1L71m"
   },
   "outputs": [
    {
     "data": {
      "text/plain": [
       "30"
      ]
     },
     "execution_count": 109,
     "metadata": {},
     "output_type": "execute_result"
    }
   ],
   "source": [
    "# Verwenden Sie folgende Funktionen so, dass nach der Addition der \n",
    "# Zahlen 2 und 3 mit Hilfe der Multiplikation das Endergebnis 30 durch \n",
    "# richtigen Aufruf der Funktionen berechnet wird\n",
    "\n",
    "def summ(a,b):\n",
    "  return a + b\n",
    "\n",
    "def multipl(c,d):\n",
    "  return c*d\n",
    "\n",
    "# Code TODO\n",
    "multipl(summ(2, 3), 6)"
   ]
  },
  {
   "cell_type": "markdown",
   "metadata": {
    "id": "f-Sob7CvTnDY"
   },
   "source": [
    "Der Abstand zweier Punkte in der Ebene sollen mit dem Satz von Pythagoras berechnet werden. ![2.JPG](data:image/jpeg;base64,/9j/4AAQSkZJRgABAQEAYABgAAD/4RCQRXhpZgAATU0AKgAAAAgABAE7AAIAAAAKAAAISodpAAQAAAABAAAIVJydAAEAAAAUAAAQdOocAAcAAAgMAAAAPgAAAAAc6gAAAAgAAAAAAAAAAAAAAAAAAAAAAAAAAAAAAAAAAAAAAAAAAAAAAAAAAAAAAAAAAAAAAAAAAAAAAAAAAAAAAAAAAAAAAAAAAAAAAAAAAAAAAAAAAAAAAAAAAAAAAAAAAAAAAAAAAAAAAAAAAAAAAAAAAAAAAAAAAAAAAAAAAAAAAAAAAAAAAAAAAAAAAAAAAAAAAAAAAAAAAAAAAAAAAAAAAAAAAAAAAAAAAAAAAAAAAAAAAAAAAAAAAAAAAAAAAAAAAAAAAAAAAAAAAAAAAAAAAAAAAAAAAAAAAAAAAAAAAAAAAAAAAAAAAAAAAAAAAAAAAAAAAAAAAAAAAAAAAAAAAAAAAAAAAAAAAAAAAAAAAAAAAAAAAAAAAAAAAAAAAAAAAAAAAAAAAAAAAAAAAAAAAAAAAAAAAAAAAAAAAAAAAAAAAAAAAAAAAAAAAAAAAAAAAAAAAAAAAAAAAAAAAAAAAAAAAAAAAAAAAAAAAAAAAAAAAAAAAAAAAAAAAAAAAAAAAAAAAAAAAAAAAAAAAAAAAAAAAAAAAAAAAAAAAAAAAAAAAAAAAAAAAAAAAAAAAAAAAAAAAAAAAAAAAAAAAAAAAAAAAAAAAAAAAAAAAAAAAAAAAAAAAAAAAAAAAAAAAAAAAAAAAAAAAAAAAAAAAAAAAAAAAAAAAAAAAAAAAAAAAAAAAAAAAAAAAAAAAAAAAAAAAAAAAAAAAAAAAAAAAAAAAAAAAAAAAAAAAAAAAAAAAAAAAAAAAAAAAAAAAAAAAAAAAAAAAAAAAAAAAAAAAAAAAAAAAAAAAAAAAAAAAAAAAAAAAAAAAAAAAAAAAAAAAAAAAAAAAAAAAAAAAAAAAAAAAAAAAAAAAAAAAAAAAAAAAAAAAAAAAAAAAAAAAAAAAAAAAAAAAAAAAAAAAAAAAAAAAAAAAAAAAAAAAAAAAAAAAAAAAAAAAAAAAAAAAAAAAAAAAAAAAAAAAAAAAAAAAAAAAAAAAAAAAAAAAAAAAAAAAAAAAAAAAAAAAAAAAAAAAAAAAAAAAAAAAAAAAAAAAAAAAAAAAAAAAAAAAAAAAAAAAAAAAAAAAAAAAAAAAAAAAAAAAAAAAAAAAAAAAAAAAAAAAAAAAAAAAAAAAAAAAAAAAAAAAAAAAAAAAAAAAAAAAAAAAAAAAAAAAAAAAAAAAAAAAAAAAAAAAAAAAAAAAAAAAAAAAAAAAAAAAAAAAAAAAAAAAAAAAAAAAAAAAAAAAAAAAAAAAAAAAAAAAAAAAAAAAAAAAAAAAAAAAAAAAAAAAAAAAAAAAAAAAAAAAAAAAAAAAAAAAAAAAAAAAAAAAAAAAAAAAAAAAAAAAAAAAAAAAAAAAAAAAAAAAAAAAAAAAAAAAAAAAAAAAAAAAAAAAAAAAAAAAAAAAAAAAAAAAAAAAAAAAAAAAAAAAAAAAAAAAAAAAAAAAAAAAAAAAAAAAAAAAAAAAAAAAAAAAAAAAAAAAAAAAAAAAAAAAAAAAAAAAAAAAAAAAAAAAAAAAAAAAAAAAAAAAAAAAAAAAAAAAAAAAAAAAAAAAAAAAAAAAAAAAAAAAAAAAAAAAAAAAAAAAAAAAAAAAAAAAAAAAAAAAAAAAAAAAAAAAAAAAAAAAAAAAAAAAAAAAAAAAAAAAAAAAAAAAAAAAAAAAAAAAAAAAAAAAAAAAAAAAAAAAAAAAAAAAAAAAAAAAAAAAAAAAAAAAAAAAAAAAAAAAAAAAAAAAAAAAAAAAAAAAAAAAAAAAAAAAAAAAAAAAAAAAAAAAAAAAAAAAAAAAAAAAAAAAAAAAAAAAAAAAAAAAAAAAAAAAAAAAAAAAAAAAAAAAAAAAAAAAAAAAAAAAAAAAAAAAAAAAAAAAAAAAAAAAAAAAAAAAAAAAAAAAAAAAAAAAAAAAAAAAAAAAAAAAAAAAAAAAAAAAAAAAAAAAAAAAAAAAAAAAAAAAAAAAAAAAAAAAAAAAAAAAAAAAAAAAAAAAAAAAAAAAAAAAAAAAAAAAAAAAAAAAAAAAAAAAAAAAAAAAAAAAAAAAAAAAAAAAAAAAAAAAAAAAAAAAAAAAAAAAAAAAAAAAAAAAAAAAAAAAAAAAAAAAAAAAAAAAAAAAAAAAAAAAAAAAAAAAAAAAAAAAAAAAAAAAAAAAAAAAAAAAAAAAAAAAAAAAAAAAAAAAAAAAAAAAAAAAAAAAAAAAAAAAAAAAAAAAAAAAAAAAAAAAAAAAAAAAAAAAAAAAAAAAAAAAAAAAAAAAAAAAAAAAAAAAAAAAAAAAAAAAAAAAAAAAAAAAAAAAAAAAAAAAAAAAAAAAAAAAAAAAAAAAAAAAAAAAAAAAAAAAAAAAAAAAAAAAAAAAAAAAAAAAAAAAAAAAAAAAAAAAAAAAAAAAAAAAAAAAAAAAAAAAAAAAAAAAAAAAAAAAAAAAAAAAAAAAAAAAAAAAAAAAAAAAAAAAAAAAAAAAAAAAAAAAAAAAAAAAAAAAAAAAAAAAAAAAAAAAAAAAAAAAAAAAAAAAAAAAAAAAAAAAAAAAAAAAAAAAAAAAAAAAAAAAAAAAAAAAAAAAAAAAAAAAAAAAAAAAAAAAAAAAAAAAAAAAAAAAAAAAAAAAAAAAAAAAAAAAAAAAAAAAAAAAAAAAAAAAAAAAAAAAAAAAAAAAAAAAAAAAAAAAAAAAAAAAAAAAAAAAAAAAAAAAAAAAAAAAAAAAAAAAAAAAAAAAAAAAAAAAAAAAAAAAAAAAAAAAAAAAAAAAAAAAAAAAAAAAAAAAAAAAFZlcnVjY2hpbwAAAeocAAcAAAgMAAAIZgAAAAAc6gAAAAgAAAAAAAAAAAAAAAAAAAAAAAAAAAAAAAAAAAAAAAAAAAAAAAAAAAAAAAAAAAAAAAAAAAAAAAAAAAAAAAAAAAAAAAAAAAAAAAAAAAAAAAAAAAAAAAAAAAAAAAAAAAAAAAAAAAAAAAAAAAAAAAAAAAAAAAAAAAAAAAAAAAAAAAAAAAAAAAAAAAAAAAAAAAAAAAAAAAAAAAAAAAAAAAAAAAAAAAAAAAAAAAAAAAAAAAAAAAAAAAAAAAAAAAAAAAAAAAAAAAAAAAAAAAAAAAAAAAAAAAAAAAAAAAAAAAAAAAAAAAAAAAAAAAAAAAAAAAAAAAAAAAAAAAAAAAAAAAAAAAAAAAAAAAAAAAAAAAAAAAAAAAAAAAAAAAAAAAAAAAAAAAAAAAAAAAAAAAAAAAAAAAAAAAAAAAAAAAAAAAAAAAAAAAAAAAAAAAAAAAAAAAAAAAAAAAAAAAAAAAAAAAAAAAAAAAAAAAAAAAAAAAAAAAAAAAAAAAAAAAAAAAAAAAAAAAAAAAAAAAAAAAAAAAAAAAAAAAAAAAAAAAAAAAAAAAAAAAAAAAAAAAAAAAAAAAAAAAAAAAAAAAAAAAAAAAAAAAAAAAAAAAAAAAAAAAAAAAAAAAAAAAAAAAAAAAAAAAAAAAAAAAAAAAAAAAAAAAAAAAAAAAAAAAAAAAAAAAAAAAAAAAAAAAAAAAAAAAAAAAAAAAAAAAAAAAAAAAAAAAAAAAAAAAAAAAAAAAAAAAAAAAAAAAAAAAAAAAAAAAAAAAAAAAAAAAAAAAAAAAAAAAAAAAAAAAAAAAAAAAAAAAAAAAAAAAAAAAAAAAAAAAAAAAAAAAAAAAAAAAAAAAAAAAAAAAAAAAAAAAAAAAAAAAAAAAAAAAAAAAAAAAAAAAAAAAAAAAAAAAAAAAAAAAAAAAAAAAAAAAAAAAAAAAAAAAAAAAAAAAAAAAAAAAAAAAAAAAAAAAAAAAAAAAAAAAAAAAAAAAAAAAAAAAAAAAAAAAAAAAAAAAAAAAAAAAAAAAAAAAAAAAAAAAAAAAAAAAAAAAAAAAAAAAAAAAAAAAAAAAAAAAAAAAAAAAAAAAAAAAAAAAAAAAAAAAAAAAAAAAAAAAAAAAAAAAAAAAAAAAAAAAAAAAAAAAAAAAAAAAAAAAAAAAAAAAAAAAAAAAAAAAAAAAAAAAAAAAAAAAAAAAAAAAAAAAAAAAAAAAAAAAAAAAAAAAAAAAAAAAAAAAAAAAAAAAAAAAAAAAAAAAAAAAAAAAAAAAAAAAAAAAAAAAAAAAAAAAAAAAAAAAAAAAAAAAAAAAAAAAAAAAAAAAAAAAAAAAAAAAAAAAAAAAAAAAAAAAAAAAAAAAAAAAAAAAAAAAAAAAAAAAAAAAAAAAAAAAAAAAAAAAAAAAAAAAAAAAAAAAAAAAAAAAAAAAAAAAAAAAAAAAAAAAAAAAAAAAAAAAAAAAAAAAAAAAAAAAAAAAAAAAAAAAAAAAAAAAAAAAAAAAAAAAAAAAAAAAAAAAAAAAAAAAAAAAAAAAAAAAAAAAAAAAAAAAAAAAAAAAAAAAAAAAAAAAAAAAAAAAAAAAAAAAAAAAAAAAAAAAAAAAAAAAAAAAAAAAAAAAAAAAAAAAAAAAAAAAAAAAAAAAAAAAAAAAAAAAAAAAAAAAAAAAAAAAAAAAAAAAAAAAAAAAAAAAAAAAAAAAAAAAAAAAAAAAAAAAAAAAAAAAAAAAAAAAAAAAAAAAAAAAAAAAAAAAAAAAAAAAAAAAAAAAAAAAAAAAAAAAAAAAAAAAAAAAAAAAAAAAAAAAAAAAAAAAAAAAAAAAAAAAAAAAAAAAAAAAAAAAAAAAAAAAAAAAAAAAAAAAAAAAAAAAAAAAAAAAAAAAAAAAAAAAAAAAAAAAAAAAAAAAAAAAAAAAAAAAAAAAAAAAAAAAAAAAAAAAAAAAAAAAAAAAAAAAAAAAAAAAAAAAAAAAAAAAAAAAAAAAAAAAAAAAAAAAAAAAAAAAAAAAAAAAAAAAAAAAAAAAAAAAAAAAAAAAAAAAAAAAAAAAAAAAAAAAAAAAAAAAAAAAAAAAAAAAAAAAAAAAAAAAAAAAAAAAAAAAAAAAAAAAAAAAAAAAAAAAAAAAAAAAAAAAAAAAAAAAAAAAAAAAAAAAAAAAAAAAAAAAAAAAAAAAAAAAAAAAAAAAAAAAAAAAAAAAAAAAAAAAAAAAAAAAAAAAAAAAAAAAAAAAAAAAAAAAAAAAAAAAAAAAAAAAAAAAAAAAAAAAAAAAAAAAAAAAAAAAAAAAAAAAAAAAAAAAAAAAAAAAAAAAAAAAAAAAAAAAAAAAAAAAAAAAAAAAAAAAAAAAAAAAAAAAAAAAAAAAAAAAAAAAAAAAAAAAAAAAAAAAAAAAAAAAAAAAAAAAAAAAAAAAAAAAAAAAAAAAAAAAAAAAAAAAAAAAAAAAAAAAAAAAAAAAAAAAAAAAAAAAAAAAAAAAAAAAAAAAAAAAAAAAAAAAAAAAAAAAAAAAAAAAAAAAAAAAAAAAAAAAAAAAAAAAAAAAAAAAAAAAAAAAAAAAAAAAAAAAAAAAAAAAAAAAAAAAAAAAAAAAAAAAAAAAAAAAAAAAAAAAAAAAAAAAAAAAAAAAAAAAAAAAAAAAAAAAAAAAAAAAAAAAAAAAAAAAAAAAAAAAAAAAAAAAAAAAAAAAAAAAAAAAAAAAAAAAAAAAAAAAAAAAAAAAAAAAAAAAAAAAAAAAAAAAAAAAAAAAAAAAAAAAAAAAAAAAAAAAAAAAAAVgBlAHIAdQBjAGMAaABpAG8AAAD/4QpiaHR0cDovL25zLmFkb2JlLmNvbS94YXAvMS4wLwA8P3hwYWNrZXQgYmVnaW49J++7vycgaWQ9J1c1TTBNcENlaGlIenJlU3pOVGN6a2M5ZCc/Pg0KPHg6eG1wbWV0YSB4bWxuczp4PSJhZG9iZTpuczptZXRhLyI+PHJkZjpSREYgeG1sbnM6cmRmPSJodHRwOi8vd3d3LnczLm9yZy8xOTk5LzAyLzIyLXJkZi1zeW50YXgtbnMjIj48cmRmOkRlc2NyaXB0aW9uIHJkZjphYm91dD0idXVpZDpmYWY1YmRkNS1iYTNkLTExZGEtYWQzMS1kMzNkNzUxODJmMWIiIHhtbG5zOmRjPSJodHRwOi8vcHVybC5vcmcvZGMvZWxlbWVudHMvMS4xLyIvPjxyZGY6RGVzY3JpcHRpb24gcmRmOmFib3V0PSJ1dWlkOmZhZjViZGQ1LWJhM2QtMTFkYS1hZDMxLWQzM2Q3NTE4MmYxYiIgeG1sbnM6ZGM9Imh0dHA6Ly9wdXJsLm9yZy9kYy9lbGVtZW50cy8xLjEvIj48ZGM6Y3JlYXRvcj48cmRmOlNlcSB4bWxuczpyZGY9Imh0dHA6Ly93d3cudzMub3JnLzE5OTkvMDIvMjItcmRmLXN5bnRheC1ucyMiPjxyZGY6bGk+VmVydWNjaGlvPC9yZGY6bGk+PC9yZGY6U2VxPg0KCQkJPC9kYzpjcmVhdG9yPjwvcmRmOkRlc2NyaXB0aW9uPjwvcmRmOlJERj48L3g6eG1wbWV0YT4NCiAgICAgICAgICAgICAgICAgICAgICAgICAgICAgICAgICAgICAgICAgICAgICAgICAgICAgICAgICAgICAgICAgICAgICAgICAgICAgICAgICAgICAgICAgICAgICAgICAgICAKICAgICAgICAgICAgICAgICAgICAgICAgICAgICAgICAgICAgICAgICAgICAgICAgICAgICAgICAgICAgICAgICAgICAgICAgICAgICAgICAgICAgICAgICAgICAgICAgICAgIAogICAgICAgICAgICAgICAgICAgICAgICAgICAgICAgICAgICAgICAgICAgICAgICAgICAgICAgICAgICAgICAgICAgICAgICAgICAgICAgICAgICAgICAgICAgICAgICAgICAgCiAgICAgICAgICAgICAgICAgICAgICAgICAgICAgICAgICAgICAgICAgICAgICAgICAgICAgICAgICAgICAgICAgICAgICAgICAgICAgICAgICAgICAgICAgICAgICAgICAgICAKICAgICAgICAgICAgICAgICAgICAgICAgICAgICAgICAgICAgICAgICAgICAgICAgICAgICAgICAgICAgICAgICAgICAgICAgICAgICAgICAgICAgICAgICAgICAgICAgICAgIAogICAgICAgICAgICAgICAgICAgICAgICAgICAgICAgICAgICAgICAgICAgICAgICAgICAgICAgICAgICAgICAgICAgICAgICAgICAgICAgICAgICAgICAgICAgICAgICAgICAgCiAgICAgICAgICAgICAgICAgICAgICAgICAgICAgICAgICAgICAgICAgICAgICAgICAgICAgICAgICAgICAgICAgICAgICAgICAgICAgICAgICAgICAgICAgICAgICAgICAgICAKICAgICAgICAgICAgICAgICAgICAgICAgICAgICAgICAgICAgICAgICAgICAgICAgICAgICAgICAgICAgICAgICAgICAgICAgICAgICAgICAgICAgICAgICAgICAgICAgICAgIAogICAgICAgICAgICAgICAgICAgICAgICAgICAgICAgICAgICAgICAgICAgICAgICAgICAgICAgICAgICAgICAgICAgICAgICAgICAgICAgICAgICAgICAgICAgICAgICAgICAgCiAgICAgICAgICAgICAgICAgICAgICAgICAgICAgICAgICAgICAgICAgICAgICAgICAgICAgICAgICAgICAgICAgICAgICAgICAgICAgICAgICAgICAgICAgICAgICAgICAgICAKICAgICAgICAgICAgICAgICAgICAgICAgICAgICAgICAgICAgICAgICAgICAgICAgICAgICAgICAgICAgICAgICAgICAgICAgICAgICAgICAgICAgICAgICAgICAgICAgICAgIAogICAgICAgICAgICAgICAgICAgICAgICAgICAgICAgICAgICAgICAgICAgICAgICAgICAgICAgICAgICAgICAgICAgICAgICAgICAgICAgICAgICAgICAgICAgICAgICAgICAgCiAgICAgICAgICAgICAgICAgICAgICAgICAgICAgICAgICAgICAgICAgICAgICAgICAgICAgICAgICAgICAgICAgICAgICAgICAgICAgICAgICAgICAgICAgICAgICAgICAgICAKICAgICAgICAgICAgICAgICAgICAgICAgICAgICAgICAgICAgICAgICAgICAgICAgICAgICAgICAgICAgICAgICAgICAgICAgICAgICAgICAgICAgICAgICAgICAgICAgICAgIAogICAgICAgICAgICAgICAgICAgICAgICAgICAgICAgICAgICAgICAgICAgICAgICAgICAgICAgICAgICAgICAgICAgICAgICAgICAgICAgICAgICAgICAgICAgICAgICAgICAgCiAgICAgICAgICAgICAgICAgICAgICAgICAgICAgICAgICAgICAgICAgICAgICAgICAgICAgICAgICAgICAgICAgICAgICAgICAgICAgICAgICAgICAgICAgICAgICAgICAgICAKICAgICAgICAgICAgICAgICAgICAgICAgICAgICAgICAgICAgICAgICAgICAgICAgICAgICAgICAgICAgICAgICAgICAgICAgICAgICAgICAgICAgICAgICAgICAgICAgICAgIAogICAgICAgICAgICAgICAgICAgICAgICAgICAgICAgICAgICAgICAgICAgICAgICAgICAgICAgICAgICAgICAgICAgICAgICAgICAgICAgICAgICAgICAgICAgICAgICAgICAgCiAgICAgICAgICAgICAgICAgICAgICAgICAgICAgICAgICAgICAgICAgICAgICAgICAgICAgICAgICAgICAgICAgICAgICAgICAgICAgICAgICAgICAgICAgICAgICAgICAgICAKICAgICAgICAgICAgICAgICAgICAgICAgICAgICAgICAgICAgICAgICAgICAgICAgICAgICAgICAgICAgICAgICAgICAgICAgICAgICAgICAgICAgICAgICAgICAgICAgICAgIAogICAgICAgICAgICAgICAgICAgICAgICAgICAgPD94cGFja2V0IGVuZD0ndyc/Pv/bAEMABwUFBgUEBwYFBggHBwgKEQsKCQkKFQ8QDBEYFRoZGBUYFxseJyEbHSUdFxgiLiIlKCkrLCsaIC8zLyoyJyorKv/bAEMBBwgICgkKFAsLFCocGBwqKioqKioqKioqKioqKioqKioqKioqKioqKioqKioqKioqKioqKioqKioqKioqKioqKv/AABEIAGQBnQMBIgACEQEDEQH/xAAfAAABBQEBAQEBAQAAAAAAAAAAAQIDBAUGBwgJCgv/xAC1EAACAQMDAgQDBQUEBAAAAX0BAgMABBEFEiExQQYTUWEHInEUMoGRoQgjQrHBFVLR8CQzYnKCCQoWFxgZGiUmJygpKjQ1Njc4OTpDREVGR0hJSlNUVVZXWFlaY2RlZmdoaWpzdHV2d3h5eoOEhYaHiImKkpOUlZaXmJmaoqOkpaanqKmqsrO0tba3uLm6wsPExcbHyMnK0tPU1dbX2Nna4eLj5OXm5+jp6vHy8/T19vf4+fr/xAAfAQADAQEBAQEBAQEBAAAAAAAAAQIDBAUGBwgJCgv/xAC1EQACAQIEBAMEBwUEBAABAncAAQIDEQQFITEGEkFRB2FxEyIygQgUQpGhscEJIzNS8BVictEKFiQ04SXxFxgZGiYnKCkqNTY3ODk6Q0RFRkdISUpTVFVWV1hZWmNkZWZnaGlqc3R1dnd4eXqCg4SFhoeIiYqSk5SVlpeYmZqio6Slpqeoqaqys7S1tre4ubrCw8TFxsfIycrS09TV1tfY2dri4+Tl5ufo6ery8/T19vf4+fr/2gAMAwEAAhEDEQA/APpGiiigAooooAKKKKACiiigAooooAKKKKACiiigAooooAKKKKACiiigAooooAKKKKACiiigAooooAKKKKACiiigAooooAKKKKACiiigAooooAKKKKACiiigAooooAKKKKACiiigAooooAKKKKACiiigAooooAKKKKACiiigAooooAKKKR3WONnc4VRkk9hQAtFeS+AvBcXizwZaa/rWsa8t3qDyzssOpyxoqmVtoC54+XFdF/wqrSf+gz4j/wDBxN/jQB3FFcP/AMKq0n/oM+I//BxN/jR/wqrSf+gz4j/8HE3+NAHcUVw//CqtJ/6DPiP/AMHE3+NH/CqtJ/6DPiP/AMHE3+NAHcUVw/8AwqrSf+gz4j/8HE3+NH/CqtJ/6DPiP/wcTf40AdxRXD/8Kq0n/oM+I/8AwcTf40f8Kq0n/oM+I/8AwcTf40AdxRXD/wDCqtJ/6DPiP/wcTf40f8Kq0n/oM+I//BxN/jQB3FFcP/wqrSf+gz4j/wDBxN/jR/wqrSf+gz4j/wDBxN/jQB3FFcP/AMKq0n/oM+I//BxN/jR/wqrSf+gz4j/8HE3+NAHcUVw//CqtJ/6DPiP/AMHE3+NH/CqtJ/6DPiP/AMHE3+NAHcUVw/8AwqrSf+gz4j/8HE3+NH/CqtJ/6DPiP/wcTf40AdxRXD/8Kq0n/oM+I/8AwcTf40f8Kq0n/oM+I/8AwcTf40AdxRXD/wDCqtJ/6DPiP/wcTf40f8Kq0n/oM+I//BxN/jQB3FFcP/wqrSf+gz4j/wDBxN/jR/wqrSf+gz4j/wDBxN/jQB3FFcP/AMKq0n/oM+I//BxN/jR/wqrSf+gz4j/8HE3+NAHcUVw//CqtJ/6DPiP/AMHE3+NH/CqtJ/6DPiP/AMHE3+NAHcUVw/8AwqrSf+gz4j/8HE3+NH/CqtJ/6DPiP/wcTf40AdxRXD/8Kq0n/oM+I/8AwcTf40f8Kq0n/oM+I/8AwcTf40AdxRXD/wDCqtJ/6DPiP/wcTf40f8Kq0n/oM+I//BxN/jQB3FFcro3w/wBO0TVodQttT1qeSHdtjutSkljOVK8qTg9fzxXVUAFFFFABRVabU7G3uUt7i9t4p5GCpE8qqzE9AATkk0t5qNlpyxNqF5BaiaQRRmeVU3ueijJ5J9KALFFFFABRRRQAUUUUAFFFFABWD46vv7M+H+vXmcNFp8xQ/wC1sIX9SK3q4b4wuX+G9zYRkrJqVzb2aEHu8y5/QGgDd8E2H9l+A9CssYaGwhVuMfNsG79c1uVjeJtaHhvw7JdQQia4ylvZ23TzZnISNOOxYjPoM1Z0TTX0vS44J52urliZLi4c8yytyzewz0A4AAA6UAaFFFFABRRRQAUUUUAFFFFABRRRQAUUVz3i9bqy09de0wO11pQMrwr/AMvEHBljx67RuXvuUdicgGjrV7d2Vgp022FzdzSpDEr5CKWPLOQCQoGSfXGO9YOieItbXx1ceF/EcdjLMNPGoQXVgjopTzPLKsrFsNnoc8gVr6l4n0zS/DS65NcK1nJGjwFSMzlwNirnqWyMVleDLa3NxeapfXtlda/qWJLpbadZBbxrwkK4P3VB5PdiT3FAHWUUUUAFFFFABRRXMeH7p/EmtXmtl2/s+0lks9OQEhZNp2yzH1JYFB6BDj7xoA6eiiigAooooAKKKKACiiigAooooAKKKiu7WK9s5rW5XfDMhjdckZBGDyOR9aAJa4HxF4v8TaFokviY2On/ANjQTqr2UiyC7aIyiMOGztDHIO3aeD1rd8Kalcy/b9F1WYzajpEwiklYAGeJhuilOO7Lwf8AaVqwrvVNK8X+JY0u9RsV0HSJ94WS4QfbbpTxxn/Vxn/vpvZeQDvqKKKACsDUPF9na64dGsLW71bVEj82W1sQhMKHoXZ2VFz2BbJ9K0tZ1FNH0K/1OVdyWVtJcMM9Qilj/KuI+CljN/wgra9qLGXUteuZLy5lb7zDcVUfTAyB23UAYUM1j4y/aI064sbYJFoumvPc74wricsU2Pj+JSRxnqp7V0Piu58MeIPH2heGtd0vUJ9ShlN3Zso2RAKCS7HcMr8npyQB3rJ+DVvHqWueM/Fcajy9S1Z4rdvWNCWyPrvH5VN4X/4qL4+eKNZK7oNFtY9LgY9nJy+PcFXH/AvegZ2V/wCLba111tGsbG81bUY4hNPBZLH+4Q/dLtI6qCewzkgZxUtn4mtdT0a71DSra8uzaSvC9ssPlymVcbkAfaMgnGc44PNcB4msPEngfxdqXjvwqkes6TqUcb6pYE/OFjXAkRh1AGT3xk8EcjfufE2lH4Oan4o0JGit7qzuLpQT83nNuBB56+ZwcenFAjH+GnjTUfFWq6nrU+g6j9n1G5W3tpomiaC2hiU4DEuGzuZydqnluPb1GuN+Eml/2R8KNBgK4aS2+0N6kykyfyYV2LDKkE4GOoOMUALRXFf2Lof/AEOmqf8Ag8P+NH9i6H/0Omqf+Dw/40AdrRXPaBp+nWl872PiC81OQxkGG41E3CqMj5tueD0Gff3ravb2202xmvL+eO3toELyyyNhUUdSTQBPXC/EP/TPEXgjShyZtbW7IHcQRs5/DkH8K1vBPjjTPHel3V/o4kWK3uWtyJBhjjBDY7Ag5FZGq/6f8dPD9t1Gl6TdXvbjzWWLP6H9fegCfxNJ9v8Aib4R0g8wwfadTmXnkogSP8mkJ/AV2lcPKA3x+ttwzs8NSsuex+0oM/lXcUAcp4q8f2Xg+/tLbVNM1JxeyCK2mgSNo5ZDj5MlwVPP8QA688VdvvEk9r4i0jSIdJmmk1BGklfzkH2VFHJYAknBIHHBJABNcp8d7OC9+GsyliL6CZLmySMEuzJkuQBzgRlyT2xmtz4cSw6r4RtPETTG6v8AVoVku7hgASy5HlgDoiHcAPqTySSAdbRRRQAUVzs+r+KEuJEg8LQyxK5CSHVFUuueDjZxn0qP+2fFv/QpQf8Ag2X/AOIoA6aiszR73V7vzf7Y0iPTtuPL2XYn39c9FGMcfnWnQByVv8QrO48bf8IqdI1SHVAvmMsqRBFj/wCem4SEFee2T7cGtHSvEM2qeJNV01dMkittNKob1pVZZZDzsAGcEDBOTkZGQM15f8YLtNE+JXhnXtPvWtbiP/QtQuIo932eGQkKxz8u7DSlQ393OOK9i03TbXSdPisrCPy4Y84BJJYk5LEnksSSSTySSaALVIyhlKsAQRggjrS0UAcB8PtOsNW8Ez6Brdja6jFoeqXNiI7uFZVHludhwwI4RwAfSur0zwxoOi3LXGj6Jp2nzshjaW1tI4mKkg7SVAOMgHHsK5j4cEDXPG6RuWjGvyNz2Yxpu/Xj8K7ugAoornrnVvE8d1Klt4XhmhVyI5DqaqXXPBxsOM+lAEthqtzceONZ0uQr9ms7O0liAXkNI04Yk9/9Wv5VuV5vpuq+Jl+IuvyJ4ZhadrGxEkP9pqAgDXG07tnOcnjtj3rrNO1PxDcX8cWpeHYrK2bO+ddQWUrwcfKFGcnA696AHeMtWbQvBOs6pGcSWtnLJGf9vadv64o8G6Yuj+CdG09RzBZxK59W2gsfxJJ/GsP4xkj4Q6/g4/cp/wCjFrtUVURUQBVUYAHYUAc94x8Z2XgjTU1HVrO8lsi4R57ZUYRsegILhufYGptT8S/2Z4On8QTaZdBIYDO1qzxCQKOeocr07Ak8gYzxWF8Z7H7f8IdcQDLRRpMvtskVj+gNGkXA8YW+h2o/eadZWdre3pzkSzmNXiiPrjIkP/bP1NAHYadcy3ml2tzc2zWs00KSSW7NuMTFQSpPfBOPwqzRRQAUVl6xe6xaNENH0ePUQwPmF7wQbOmOqnOeazf7Z8W/9ClB/wCDZf8A4igDpqK5621bxPJdRJc+F4YYWcCSQamrFFzycbBnHpXQ0Acrq/j600bxZaeHbjStSkvr4E2nlCHZOBnJBMgxjB+9ir2veI5NF1LR7OLTZrx9Uu1tlZJEURDBZmIzuIVVY8DHGMjIrjfibGLX4i/DzVPu7dSe0Zs4/wBYFAH6H866nQV/t3V5vE0ozb7TbaWD08jPzTD/AK6EAg/3FT1NAHS0UUUAcVqUh0v4z6LKvCa1plxaOPV4WEqn67Wf8M1rHwF4PJJPhTRCT1J06H/4msPxuQvxF8AuHKy/bblQB3UwHd/QfjXd0AFFFFAFbUrCHVdKu9PuwTBdwPBKB3VlKn9DXGaN4U8Taf4PXwlJeWEVhHG1uupwO/2hoSTwIiu1Xwcbt5x1xXeUUAcL8MfB+ueC9DXSdVvLGS1t2kMQtFYtMXfdvkLAYIHAA9eScCofBfgfXvDGpaxHPqVodPv9QmvvOgVvtEpkXAV9w2qFPzcEkn0Ga9AooA4a38PeLrHwgvha1udKe1jtvscWqSPIJkhxtH7gLtLBcc+YBkdKl1f4dwXHwjk8EaTc/ZkFukcU7jq6uJCWx/eYHOP7xrtKKAMXwta61ZaJb2uvrp6yW8McKLYs7KdowTlgOvHGOPU1tHnrRRQBkf8ACJeHP+hf0v8A8Ao/8KP+ES8Of9C/pf8A4BR/4Vr0UAUbHQ9J0yZptN0uzs5WXaz29ukbEdcZA6cCpdQ02y1W1FvqVrDdQh1k8uZAy7lOVOD6EVZooA8a8Pf8UH+0RqmiH93pviaL7XbDsJfmbHtz5ox7rXV6F/p3xr8VXR5/s6ws7JT/AL4aUj9R+dYfx50e4Hh/TfFmljF/4fu0mDAf8syw/PDBD9N1aHwfv11+18R+JlRkXVdXdog2c+WiIq/1oGaGuxiy+MHha/bAW8tLuwJI6MAsqjPvtb8veuxumuEtZGsoopZwPkSWQxqx92CsR+RrE8Z6Pc6roccumKralp1xHfWQY4DSRnOwnsGUsn/Aq1dL1K31jS7fULNi0NwgdcjBX1UjsQcgjsQRQIxdA0LUTcaje+LRZ3V7dExRm3kZ447c/wDLJVZRtHrydx5PQAYXgPwR4j8GwXGijVrU6GtxJNayxITdBWBGwhl2Lg4bPzZOfXj0KkclUYhS5AyFGMn25oA4X4XSXLr4tW8u5rySHxJcw+fOQXZUjiVc4AHQDoAPau7rivh5puq6VceJV1bSp7JdQ1q41C3eSWJw0bhAoOx2Ib5TxjHvXa0AFFFFABWZrv8AbZ0508NrY/a3UhZb2RlWI44baqnd9Mj+ladFAHEav8Pk174ZXHh28dIr+6Amlu95lLXIIPmM21S2cY6DC8AAAVJpfhvxJd+HbPTPFmpWjRxCKK4isN4FxGgPVztbLnZuAAGAw53cdnXP+NZ9fh8OsnhSwe8vp5FiYxzRxtBGQd0imQhSwxgD1IPQGgDnfBmlQWHxI8Qf8I1EbXw9bwR20kCE+U16GJcxjoNqkBsfxGvQq5bwZLqNtbR6TP4SuNDsraH93LNewz+Y2RkHYxJY5LFj1OfWrni/Ubiz0N7XS+dU1A/ZbFR1EjA/P9EGXPsv0oAxvhcnnaLrGrD7mra3eXcR9U3+Wv6R121UdE0m30HQbLSrIYgs4FhTPUhRjJ9z1/Gr1ABRRRQBzOlxSL8TPEcjIwR9P08KxHDYa5zg/jXTUUUAc58QtNbV/hzr1lGN0kljIUGOrKu5R+YFaHhq+j1PwppV9CwZLmzilBHugNaZ561yngyI6C954VmIAsZGmsOf9ZaOxK490YlD6AKf4hQBY8ePBL4PvdLkHmXGrxPYWsK/eklkUqMegX7xPYKT2q34T8OW/hPwvZaPaMZFtogryt1kbHLH+g7DA7VU0HwTYaFfm/a81HVL3aY47jU7oztChOSqZwFHToM8V0dAHBeJzdQ/F/wOgv7lrW5kvWNoSoiRktWAYYAJPzt94nrxiu9rifFOn6tc/EfwlqdjpFxdWWktdG5ljlhX/Ww7FwGcE4PXjp6121ABRRRQAUUVR1nTBrOkT2BvLux84AfaLKXy5o8EHKtg4PFAHKePdDs/GuraL4daRxJZ3aandPEcGKFQygE9i7EAY5+Vj/DXbxxpDEscShERQqqowAB0ArM0Dw7Y+HLSSGx86WSd/MnubmUyzTvjG53PJ449BWrQB5X4y8KxWdppP9nlpfGt9fRmLUY2YOSHDzMeSRCq5G3oAVFeqV5rpN54wg1u81jVPAd5Pf3J8pGGp2uy2gB+WNBvz/tMe59gBXpLusaM7sFVRksTgAetAHFa4n9ofGLwtbpz/ZlneX0vsHCwr+rN+XtXbVyvhK3bUtW1TxXOrAakUgsQ45W0jzsb23szv9GWuqoAKKKKACiiigAooooAKKKKACiiigAooooAKKKKAKmq6bb6zo93pt6u+3u4XhkH+ywwfx5rH8BeEU8D+D7XQkuvthhaR3uPK8vzCzlvu5OMAgdT0ro6KACooLaC28z7PCkXmuZH2KBuY9WPufWpaKACiiigAooooAKKKKACiiigAooooAKia1ga8S6aFDcRo0aSlfmVWIJAPYEqPyFS0UAFFFFABRRRQAUUUUAFRSW0EtxFPJCjTQ58uQqCyZGDg9s1LRQAUUUUAFFFFABRRRQAUUUUAFFFFABUVzbQ3lrJbXcSTQSqUkjcZV1PUEdxUtFAAAAAAMAdAKKKKACiiigAooooAKKKKACiiigAooooAKKKKACiiigAooooAKKKKACiiigAooooAKKKKACiiigAooooAKKKKACiiigAooooAKKKKACiiigAooooAKKKKACiiigAooooAKKKKACiiigAooooAKKKKAP/2Q==)\n",
    "\n",
    "Schreiben Sie dazu eine Funktion mit Benutzerein- und ausgabe und testen Sie diese"
   ]
  },
  {
   "cell_type": "code",
   "execution_count": null,
   "metadata": {
    "id": "Jd53yAOHUJes"
   },
   "outputs": [],
   "source": [
    "# Abstand zweier Punkte in der Ebene \n",
    "#from math import sqrt \n",
    "#def dist(xa,ya,xb,yb): \n",
    "  \"\"\" dist - Berechnet den Abstand \n",
    "  zweier Punkte. Übergabeparameter\n",
    "  sind xa,ya (erster Punkt) und xb,yb\n",
    "  (zweiter Punkt) \"\"\"\n",
    "  # Code TODO\n",
    " # return abstand \n",
    "\n",
    "# Punkt 1 \n",
    "#x1 = 0.0; y1 = 0.0\n",
    "\n",
    "# Punkt 2\n",
    "#x2 = 10.0; y2 = 10.0\n",
    "\n",
    "# Punkt 3\n",
    "#x3 = 0.0; y3 = 10.0\n",
    "\n",
    "# Abstand von Punkt 1 und Punkt 2\n",
    "#ap1p2 = dist(x1,y1,x2,y2) \n",
    "#print(\"Der Abstand zwischen Punkt 1 und Punkt 2 ist \", ap1p2)\n",
    "\n",
    "# Abstand von Punkt 2 und Punkt 3\n",
    "#ap2p3 = dist(x3,y3,x2,y2) \n",
    "#print(\"Der Abstand zwischen Punkt 3 und Punkt 2 ist \", ap2p3)\n",
    "\n",
    "# Abstand von Punkt 1 und Punkt 3\n",
    "#ap1p3= dist(x1,y1,x3,y3) \n",
    "#print(\"Der Abstand zwischen Punkt 1 und Punkt 3 ist \", ap1p3)\n",
    "#\n"
   ]
  },
  {
   "cell_type": "code",
   "execution_count": 118,
   "metadata": {},
   "outputs": [
    {
     "name": "stdout",
     "output_type": "stream",
     "text": [
      "Geben Sie xa an: 1\n",
      "Geben Sie ya an: 2\n",
      "Geben Sie xb an: 3\n",
      "Geben Sie yb an: 4\n",
      " Der Abstand der beiden Punkte ist 3\n"
     ]
    }
   ],
   "source": [
    "#mycode\n",
    "from math import sqrt\n",
    "def Distanz():\n",
    "    xa = int(input(\"Geben Sie xa an: \"))\n",
    "    ya = int(input(\"Geben Sie ya an: \"))\n",
    "    xb = int(input(\"Geben Sie xb an: \"))\n",
    "    yb = int(input(\"Geben Sie yb an: \"))\n",
    "    dist = sqrt(pow(xa-xb, 2)+pow(ya-yb, 2))\n",
    "    print(f\" Der Abstand der beiden Punkte ist {round(dist)}\")\n",
    "\n",
    "Distanz()"
   ]
  },
  {
   "cell_type": "markdown",
   "metadata": {
    "id": "hCG6LvRQ6kTo"
   },
   "source": [
    "### **2.4 Bestimmung von ungeraden Zahlen**\n",
    "\n",
    "Implementieren Sie eine Funktion, welche für jede beliebige Integer-Zahl bestimmen kann, ob diese ungerade\n",
    "ist. Falls eine Zahl ungerade ist, soll der Wahrheitswert \"True\" zurückgegeben werden. Falls es sich um eine\n",
    "gerade Zahl handelt, dann \"False\"."
   ]
  },
  {
   "cell_type": "code",
   "execution_count": null,
   "metadata": {
    "id": "FSFRyVO96v_M"
   },
   "outputs": [],
   "source": [
    "#def is_odd(x):\n",
    "# Code TODO\n",
    " # return result\n",
    "\n",
    "\n",
    "#print (is_odd(5))"
   ]
  },
  {
   "cell_type": "code",
   "execution_count": 142,
   "metadata": {},
   "outputs": [
    {
     "data": {
      "text/plain": [
       "False"
      ]
     },
     "execution_count": 142,
     "metadata": {},
     "output_type": "execute_result"
    }
   ],
   "source": [
    "#mycode\n",
    "def is_odd(x):\n",
    "    y = x/2 #dividiert durch zwei, ungerade Zahlen werden jetzt zum Float\n",
    "    if type(y) == int:\n",
    "        return False\n",
    "    else:\n",
    "        if y.is_integer():\n",
    "            return False\n",
    "        else:\n",
    "            return True\n",
    "is_odd(4)"
   ]
  },
  {
   "cell_type": "markdown",
   "metadata": {
    "id": "Amc_YMGO8mJ1"
   },
   "source": [
    "### **2.5 Summenberechnung**\n",
    "\n",
    "Implementieren Sie eine Funktion, welche bei der Zahl 3 startet und jede fünfte Zahl, die noch kleiner als die übergeben Zahl x ist, zu der bisherigen Summe (d.h. 3 + 8 + 13 + 18 + ...) hinzuaddiert. Am Ende soll die\n",
    "Summe dieser Berechnung zurückgegeben werden."
   ]
  },
  {
   "cell_type": "code",
   "execution_count": 159,
   "metadata": {
    "id": "S0LcxLDb97qj"
   },
   "outputs": [],
   "source": [
    "# so gehts leider ned^^\n",
    "#def my_sum(x):\n",
    "#    liste = []\n",
    "#    y = 3\n",
    "#    while x <= sum(liste):\n",
    "#        liste.append(y)\n",
    "#        if sum(liste) >= x:\n",
    "#            print(sum(liste))\n",
    "#            break\n",
    "#        y += 5\n",
    "#\n",
    "#\n",
    "#my_sum(2)"
   ]
  },
  {
   "cell_type": "code",
   "execution_count": 171,
   "metadata": {},
   "outputs": [
    {
     "name": "stdout",
     "output_type": "stream",
     "text": [
      "30\n"
     ]
    }
   ],
   "source": [
    "def my_sum(x):\n",
    "    liste = []\n",
    "    for i in range(0, x, 5):\n",
    "        liste.append(i)\n",
    "    print(sum(liste))\n",
    "    \n",
    "my_sum(20)"
   ]
  },
  {
   "cell_type": "markdown",
   "metadata": {
    "id": "auyC9zHygsEN"
   },
   "source": [
    "### **2.6 Teilen von Ganzzahlen**\n",
    "\n",
    "Implementiere eine Funktion, welche für eine beliebige positive Integer-Zahl ermittelt, wie oft diese ohne Entstehung eines Restbetrages durch 2 geteilt werden kann (nur gerade Zahlen können ohne Restbetrag geteilt werden) und das Ergebnis anschließend zurückgibt. \n",
    "\n",
    "Verwende dazu die  implementierte Funktion \"is_odd\".\n",
    "Beispiel: in: 8 - out: 3, in: 10 - out: 1\n",
    "\n",
    "\n",
    "\n"
   ]
  },
  {
   "cell_type": "code",
   "execution_count": 177,
   "metadata": {
    "id": "aeMYC5kShE59"
   },
   "outputs": [
    {
     "name": "stdout",
     "output_type": "stream",
     "text": [
      "False\n",
      "True\n",
      "1\n",
      "1\n"
     ]
    }
   ],
   "source": [
    "\n",
    "def is_odd(x):\n",
    "    return x % 2 != 0\n",
    "\n",
    "\n",
    "def count_loop(x):\n",
    "    y = x\n",
    "    z = 0\n",
    "    while type(y) == int:\n",
    "        y = y/2\n",
    "        z += 1\n",
    "       # if is_odd(y) is TRUE:\n",
    "            \n",
    "        \n",
    "    return z\n",
    "\n",
    "\n",
    "print(is_odd(10))\n",
    "print(is_odd(3))\n",
    "print (count_loop(8))\n",
    "print (count_loop(10))\n",
    "\n",
    "\n"
   ]
  },
  {
   "cell_type": "code",
   "execution_count": 180,
   "metadata": {},
   "outputs": [
    {
     "name": "stdout",
     "output_type": "stream",
     "text": [
      "0\n"
     ]
    }
   ],
   "source": [
    "def is_odd(x):\n",
    "    return x % 2 != 0\n",
    "\n",
    "\n",
    "def count_loop(x):\n",
    "    y = 0\n",
    "    while type(x) == int:\n",
    "        x = x/2\n",
    "        if is_odd(x) is True:\n",
    "            print(y)\n",
    "        y += 1\n",
    "        \n",
    "count_loop(10)"
   ]
  },
  {
   "cell_type": "code",
   "execution_count": null,
   "metadata": {},
   "outputs": [],
   "source": [
    "def is_odd(x):\n",
    "    return x % 2 != 0\n",
    "\n",
    "\n",
    "def count_loop(x):\n",
    "    count = 0\n",
    "    while type(x) == int:\n",
    "        if x % 2 == 0:\n",
    "            break\n",
    "        count += 1\n",
    "    print(count)\n",
    "    \n",
    "print(count_loop(10))\n",
    "count_loop(10)"
   ]
  },
  {
   "cell_type": "code",
   "execution_count": 185,
   "metadata": {},
   "outputs": [
    {
     "name": "stdout",
     "output_type": "stream",
     "text": [
      "5\n"
     ]
    }
   ],
   "source": [
    "def is_odd(x):\n",
    "    return x % 2 != 0\n",
    "\n",
    "\n",
    "def count_loop(x):\n",
    "    count = 0\n",
    "    for x in range(x):\n",
    "        if is_odd(x):\n",
    "            count += 1\n",
    "    print(count)\n",
    "    \n",
    "count_loop(10)\n",
    "        "
   ]
  },
  {
   "cell_type": "markdown",
   "metadata": {
    "id": "4X-uFLMjjBOg"
   },
   "source": [
    "### **2.7 Division mit Rest**\n",
    "\n",
    "Implementieren Sie eine Funktion, welche die Division mit Rest für den Dividenten x und den Divisor y berechnet und zurückgibt"
   ]
  },
  {
   "cell_type": "code",
   "execution_count": 187,
   "metadata": {
    "id": "QyEq9e1pjH3c"
   },
   "outputs": [
    {
     "name": "stdout",
     "output_type": "stream",
     "text": [
      "(2, 1)\n"
     ]
    }
   ],
   "source": [
    "# Lösung ...\n",
    "\n",
    "def division_mit_rest1(x, y):\n",
    "    print(divmod(x, y)) # Funktion Divmod kann das schon...\n",
    "\n",
    "\n",
    "division_mit_rest1(5, 2)"
   ]
  },
  {
   "cell_type": "markdown",
   "metadata": {
    "id": "uByXB0NkjjEY"
   },
   "source": [
    "### **2.8 Differenz von Ganzzahlen**\n",
    "\n",
    "Implementieren Sie eine Funktion, welche die Differenz zweier beliebiger Integer-Zahlen berechnet und das Ergebnis zurückgibt. Falls die beiden Zahlen gleich sind, dann soll 0 als Ergebnis zurückgegeben werden, ansonsten eine positive Integer-Zahl.\n",
    "\n",
    "Die Zahlen die untersucht werden sollen, werden an die untenstehende Funktion als Variablen \"x\" und \"y\" übergeben. Die Variable \"diff\" soll Ihre Lösung als Integer enthalten."
   ]
  },
  {
   "cell_type": "code",
   "execution_count": 192,
   "metadata": {
    "colab": {
     "base_uri": "https://localhost:8080/"
    },
    "id": "692N2fUDjq4P",
    "outputId": "a0c6b60b-7a03-44ab-eabb-4ce296489366"
   },
   "outputs": [
    {
     "data": {
      "text/plain": [
       "1"
      ]
     },
     "execution_count": 192,
     "metadata": {},
     "output_type": "execute_result"
    }
   ],
   "source": [
    "def calc_diff(x, y):\n",
    "    diff = x/y\n",
    "    if y == x:\n",
    "        diff = 0\n",
    "    return int(diff)\n",
    "\n",
    "\n",
    "calc_diff(8, 7)"
   ]
  },
  {
   "cell_type": "markdown",
   "metadata": {
    "id": "hFiGZeUcumiQ"
   },
   "source": [
    "### **2.9 Berechnung Primzahlen** \n",
    "\n",
    "Ergänzen Sie folgenden Code, so dass Primzahlen zwischen 1 - 20 berechnet werden können. "
   ]
  },
  {
   "cell_type": "code",
   "execution_count": null,
   "metadata": {
    "id": "c325RWXOunbC"
   },
   "outputs": [],
   "source": [
    "def is_prime(num):\n",
    "    \n",
    "for i in range(1, 20):\n",
    "\tif is_prime(i + 1):\n",
    "\t\t\tprint(i + 1, end=\" \")\n",
    "print()\n"
   ]
  },
  {
   "cell_type": "code",
   "execution_count": 193,
   "metadata": {},
   "outputs": [
    {
     "name": "stdout",
     "output_type": "stream",
     "text": [
      " 2 3 5 7 11 13 17 19"
     ]
    }
   ],
   "source": [
    "#mycode \n",
    "def is_prime():\n",
    "    for i in range(1, 20):\n",
    "        count = 0\n",
    "        for j in range(2,(i//2+1)):\n",
    "            if(i%j==0):\n",
    "                count += 1\n",
    "                break\n",
    "        if (count == 0 and i != 1):\n",
    "            print(\" %d\" %i, end =\"\")\n",
    "\n",
    "is_prime()"
   ]
  },
  {
   "cell_type": "markdown",
   "metadata": {
    "id": "kuDwpVvjpESC"
   },
   "source": [
    "### **2.10 Berechnung Fakultät mit Hilfe der Rekursion**\n",
    "\n",
    "Funktionen können andere Funktionen aufrufen, aber auch sich selbst immer wieder. Dieses Konzept wird Rekursion genannt. \n",
    "Dabei müssen Vorkehrungen getroffen werden, damit das Selbst-Aufrufen irgendwann sinnvoll beendet werden kann. \n",
    "\n",
    " "
   ]
  },
  {
   "cell_type": "code",
   "execution_count": null,
   "metadata": {
    "id": "yadp6UGgqRyV"
   },
   "outputs": [],
   "source": [
    "# Berechnung der Fakultät mit Programmschleife als iterative Lösung\n",
    "#def faku1(n):\n",
    "# Code TODO\n",
    "#  return p\n",
    "\n",
    "#print(faku1(5))"
   ]
  },
  {
   "cell_type": "code",
   "execution_count": 197,
   "metadata": {},
   "outputs": [
    {
     "name": "stdout",
     "output_type": "stream",
     "text": [
      "Programm zur Berechnung der Fakultät einer Zahl\n",
      "Die Fakultät von 4 ist 24\n"
     ]
    }
   ],
   "source": [
    "# mycode\n",
    "def faku1(n):\n",
    "    print(\"Programm zur Berechnung der Fakultät einer Zahl\")\n",
    "    fact = 1\n",
    "  \n",
    "    for i in range(1,n+1): \n",
    "        fact = fact * i \n",
    "      \n",
    "    print(f\"Die Fakultät von {n} ist {fact}\")\n",
    "faku1(4)"
   ]
  },
  {
   "cell_type": "code",
   "execution_count": 198,
   "metadata": {
    "id": "sMn0eps_rXIg"
   },
   "outputs": [
    {
     "name": "stdout",
     "output_type": "stream",
     "text": [
      "120\n"
     ]
    }
   ],
   "source": [
    "# Berechnung der Fakultät mit Rekursion\n",
    "# n! = n * (n-1)! \n",
    "\n",
    "def faku2(n):\n",
    "    if n == 1:\n",
    "        return 1\n",
    "    else:\n",
    "        return n * faku2(n-1)\n",
    "\n",
    "print(faku2(5))"
   ]
  },
  {
   "cell_type": "markdown",
   "metadata": {
    "id": "X79UECZHsSDF"
   },
   "source": [
    "### **2.11 Berechnung Fibonacci-Reihe**\n",
    "\n",
    "Die Zahlenreihe \"1, 1, 2, 3, 5, 8, 13, 21, 34, 55, 89, 144 . . .“ wird als Fibonacci-Reihe bezeichnet. Der italienische Mathematiker Fibonacci versuchte damit um das Jahr 1200 die Vermehrung von Kaninchen zu beschreiben. \n",
    "\n",
    "Jede Zahl dieser Reihe wird durch die Summe der beiden Vorgängerzahlen bestimmt. Die ersten beiden Zahlen sind vorgegeben. Dies kann auch so ausgedrückt werden:\n",
    "\n",
    "*  fibo(n) = fibo(n-1) + fibo(n-2)\n",
    "*  fibo(2) = 1\n",
    "*  fibo(1) = 1\n",
    "\n",
    "Dieses rekursive Bildungsgesetz soll in einem Programm umgesetzt werden.\n"
   ]
  },
  {
   "cell_type": "code",
   "execution_count": 2,
   "metadata": {
    "id": "AFH6S-RMtDGF"
   },
   "outputs": [
    {
     "name": "stdout",
     "output_type": "stream",
     "text": [
      "2\n"
     ]
    }
   ],
   "source": [
    "def fibo(n):\n",
    "    if n <= 1:\n",
    "        return n\n",
    "    else:\n",
    "        return (fibo(n-1) + (fibo(n-2)))\n",
    "\n",
    "print(fibo(3)) # ich glaub damit ist das hier gemeint..."
   ]
  },
  {
   "cell_type": "code",
   "execution_count": 3,
   "metadata": {},
   "outputs": [
    {
     "name": "stdout",
     "output_type": "stream",
     "text": [
      "10 mal Fibonacci-Reihe\n",
      "0\n",
      "1\n",
      "1\n",
      "2\n",
      "3\n",
      "5\n",
      "8\n",
      "13\n",
      "21\n",
      "34\n"
     ]
    }
   ],
   "source": [
    "# damit man die Reihe auch sehen kann: \n",
    "def fibor(n):\n",
    "    if n <= 0:\n",
    "        print(f\"{n} ist keine positive, ganze Zahl\")\n",
    "    else:\n",
    "        print(f\"{n} mal Fibonacci-Reihe\")\n",
    "        for i in range(n):\n",
    "            print(fibo(i))\n",
    "            \n",
    "fibor(10)"
   ]
  }
 ],
 "metadata": {
  "colab": {
   "collapsed_sections": [],
   "provenance": [],
   "toc_visible": true
  },
  "gpuClass": "standard",
  "kernelspec": {
   "display_name": "Python 3 (ipykernel)",
   "language": "python",
   "name": "python3"
  },
  "language_info": {
   "codemirror_mode": {
    "name": "ipython",
    "version": 3
   },
   "file_extension": ".py",
   "mimetype": "text/x-python",
   "name": "python",
   "nbconvert_exporter": "python",
   "pygments_lexer": "ipython3",
   "version": "3.10.4"
  }
 },
 "nbformat": 4,
 "nbformat_minor": 1
}
